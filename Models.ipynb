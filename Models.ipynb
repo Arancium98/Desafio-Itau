{
  "cells": [
    {
      "cell_type": "markdown",
      "metadata": {
        "id": "view-in-github",
        "colab_type": "text"
      },
      "source": [
        "<a href=\"https://colab.research.google.com/github/cristobalperezp/Desafio-Itau/blob/main/Models.ipynb\" target=\"_parent\"><img src=\"https://colab.research.google.com/assets/colab-badge.svg\" alt=\"Open In Colab\"/></a>"
      ]
    },
    {
      "cell_type": "markdown",
      "metadata": {
        "id": "Tc1IvbrP_Qvn"
      },
      "source": [
        "<h1 align=\"center\"> Desafío Banco Itaú\n",
        "<h2 align=\"center\">  Cristóbal Pérez\n",
        "<h3 align=\"center\"> \n",
        "<h3 align=\"center\"> 2022\n",
        "\n",
        "---"
      ]
    },
    {
      "cell_type": "markdown",
      "metadata": {
        "id": "cMbYk-iu_evQ"
      },
      "source": [
        "# Lectura de Datos"
      ]
    },
    {
      "cell_type": "code",
      "execution_count": null,
      "metadata": {
        "colab": {
          "base_uri": "https://localhost:8080/"
        },
        "id": "aafxYnXcW4IR",
        "outputId": "34156968-50b6-4c6e-b82f-61f362e776d5"
      },
      "outputs": [
        {
          "output_type": "stream",
          "name": "stdout",
          "text": [
            "Looking in indexes: https://pypi.org/simple, https://us-python.pkg.dev/colab-wheels/public/simple/\n",
            "Requirement already satisfied: squarify in /usr/local/lib/python3.8/dist-packages (0.4.3)\n"
          ]
        }
      ],
      "source": [
        "# instalación de librerías y paquetes\n",
        "! pip3 install squarify\n",
        "import numpy as np\n",
        "import pandas as pd\n",
        "\n",
        "import matplotlib.pyplot as plt\n",
        "import seaborn as sns\n",
        "import squarify\n",
        "import plotly.express as px\n",
        "import plotly.graph_objects as go\n",
        "\n",
        "import warnings\n",
        "warnings.filterwarnings(\"ignore\")"
      ]
    },
    {
      "cell_type": "code",
      "execution_count": null,
      "metadata": {
        "colab": {
          "base_uri": "https://localhost:8080/"
        },
        "id": "Hu7NweYbdU4l",
        "outputId": "4306ded7-b445-476e-cf2e-5ae8fc3d2a50"
      },
      "outputs": [
        {
          "output_type": "stream",
          "name": "stdout",
          "text": [
            "Drive already mounted at /content/drive; to attempt to forcibly remount, call drive.mount(\"/content/drive\", force_remount=True).\n"
          ]
        }
      ],
      "source": [
        "from google.colab import drive\n",
        "drive.mount('/content/drive')"
      ]
    },
    {
      "cell_type": "code",
      "execution_count": null,
      "metadata": {
        "id": "MdkMYkVi70oq"
      },
      "outputs": [],
      "source": [
        "# configuración de gráficos\n",
        "sns.set(\n",
        "    context = 'notebook',\n",
        "    style='whitegrid',\n",
        "    palette = sns.color_palette(\"vlag\")\n",
        "    )\n",
        "cmap = sns.color_palette(\"vlag\", as_cmap=True)"
      ]
    },
    {
      "cell_type": "code",
      "execution_count": null,
      "metadata": {
        "id": "NiaBSyCIrGp4"
      },
      "outputs": [],
      "source": [
        "# setear el path\n",
        "path_base = '/content/drive/MyDrive/Desafío Itaú'"
      ]
    },
    {
      "cell_type": "code",
      "execution_count": null,
      "metadata": {
        "id": "ybdLm1DxXGWT"
      },
      "outputs": [],
      "source": [
        "# lectura de datos\n",
        "path = path_base+'/Bases de Datos/data.csv'\n",
        "df = pd.read_csv(path)"
      ]
    },
    {
      "cell_type": "markdown",
      "metadata": {
        "id": "hmtaJOF6_fm8"
      },
      "source": [
        "# División de la Data"
      ]
    },
    {
      "cell_type": "code",
      "execution_count": null,
      "metadata": {
        "colab": {
          "base_uri": "https://localhost:8080/"
        },
        "id": "LnUn4LkrS_qh",
        "outputId": "3a4ab727-1407-4a98-c95b-a66691a815bc"
      },
      "outputs": [
        {
          "output_type": "execute_result",
          "data": {
            "text/plain": [
              "   Unnamed: 0  id  periodo  edad  sexo_1        renta  Q_prods      TC_cupo  \\\n",
              "0      231349   1   202208    74       0   685.667045        9  1136.363636   \n",
              "1      231350   2   202208    68       1     0.000000        4  6818.181818   \n",
              "2      231351   3   202208    74       1   511.363636        2  1022.727273   \n",
              "3      231352   4   202208    80       0  1704.545455        4     0.000000   \n",
              "4      231353   5   202208    77       1     0.001136        4  7954.545455   \n",
              "\n",
              "      TC_saldo    CCTE_saldo  ...  LCRED_saldo  ABONO_monto  ABONO_op  \\\n",
              "0  1136.363636  11352.039773  ...     0.000000  5249.069318      25.0   \n",
              "1    41.572727     10.169318  ...  1136.363636   681.818182       1.0   \n",
              "2     0.000000      0.000000  ...     0.000000  7947.058034       2.0   \n",
              "3     0.000000      0.000000  ...  4096.864773  3469.013636      17.0   \n",
              "4  2716.700000    583.101136  ...  1136.363636  2772.020455      10.0   \n",
              "\n",
              "   TRANS_op  TRANS_monto  TC_renta_cupo     TC_gasto  TC_ratio_cupo  \\\n",
              "0      22.0  2238.636364   6.033870e-01     0.000000       0.000000   \n",
              "1       0.0     0.000000   0.000000e+00  6776.609091       0.993903   \n",
              "2       0.0  2110.862161   5.000000e-01  1022.727273       1.000000   \n",
              "3       4.0   738.636364   0.000000e+00     0.000000       0.000000   \n",
              "4       1.0  1135.607955   1.428571e-07  5237.845455       0.658472   \n",
              "\n",
              "   LCRED_ratio_cupo  aumento  \n",
              "0           0.00000      0.0  \n",
              "1           0.00000      0.0  \n",
              "2           0.00000      0.0  \n",
              "3           0.09869      0.0  \n",
              "4           0.00000      0.0  \n",
              "\n",
              "[5 rows x 21 columns]"
            ],
            "text/html": [
              "\n",
              "  <div id=\"df-dacf825d-8be4-41f0-b509-39be50a4db1a\">\n",
              "    <div class=\"colab-df-container\">\n",
              "      <div>\n",
              "<style scoped>\n",
              "    .dataframe tbody tr th:only-of-type {\n",
              "        vertical-align: middle;\n",
              "    }\n",
              "\n",
              "    .dataframe tbody tr th {\n",
              "        vertical-align: top;\n",
              "    }\n",
              "\n",
              "    .dataframe thead th {\n",
              "        text-align: right;\n",
              "    }\n",
              "</style>\n",
              "<table border=\"1\" class=\"dataframe\">\n",
              "  <thead>\n",
              "    <tr style=\"text-align: right;\">\n",
              "      <th></th>\n",
              "      <th>Unnamed: 0</th>\n",
              "      <th>id</th>\n",
              "      <th>periodo</th>\n",
              "      <th>edad</th>\n",
              "      <th>sexo_1</th>\n",
              "      <th>renta</th>\n",
              "      <th>Q_prods</th>\n",
              "      <th>TC_cupo</th>\n",
              "      <th>TC_saldo</th>\n",
              "      <th>CCTE_saldo</th>\n",
              "      <th>...</th>\n",
              "      <th>LCRED_saldo</th>\n",
              "      <th>ABONO_monto</th>\n",
              "      <th>ABONO_op</th>\n",
              "      <th>TRANS_op</th>\n",
              "      <th>TRANS_monto</th>\n",
              "      <th>TC_renta_cupo</th>\n",
              "      <th>TC_gasto</th>\n",
              "      <th>TC_ratio_cupo</th>\n",
              "      <th>LCRED_ratio_cupo</th>\n",
              "      <th>aumento</th>\n",
              "    </tr>\n",
              "  </thead>\n",
              "  <tbody>\n",
              "    <tr>\n",
              "      <th>0</th>\n",
              "      <td>231349</td>\n",
              "      <td>1</td>\n",
              "      <td>202208</td>\n",
              "      <td>74</td>\n",
              "      <td>0</td>\n",
              "      <td>685.667045</td>\n",
              "      <td>9</td>\n",
              "      <td>1136.363636</td>\n",
              "      <td>1136.363636</td>\n",
              "      <td>11352.039773</td>\n",
              "      <td>...</td>\n",
              "      <td>0.000000</td>\n",
              "      <td>5249.069318</td>\n",
              "      <td>25.0</td>\n",
              "      <td>22.0</td>\n",
              "      <td>2238.636364</td>\n",
              "      <td>6.033870e-01</td>\n",
              "      <td>0.000000</td>\n",
              "      <td>0.000000</td>\n",
              "      <td>0.00000</td>\n",
              "      <td>0.0</td>\n",
              "    </tr>\n",
              "    <tr>\n",
              "      <th>1</th>\n",
              "      <td>231350</td>\n",
              "      <td>2</td>\n",
              "      <td>202208</td>\n",
              "      <td>68</td>\n",
              "      <td>1</td>\n",
              "      <td>0.000000</td>\n",
              "      <td>4</td>\n",
              "      <td>6818.181818</td>\n",
              "      <td>41.572727</td>\n",
              "      <td>10.169318</td>\n",
              "      <td>...</td>\n",
              "      <td>1136.363636</td>\n",
              "      <td>681.818182</td>\n",
              "      <td>1.0</td>\n",
              "      <td>0.0</td>\n",
              "      <td>0.000000</td>\n",
              "      <td>0.000000e+00</td>\n",
              "      <td>6776.609091</td>\n",
              "      <td>0.993903</td>\n",
              "      <td>0.00000</td>\n",
              "      <td>0.0</td>\n",
              "    </tr>\n",
              "    <tr>\n",
              "      <th>2</th>\n",
              "      <td>231351</td>\n",
              "      <td>3</td>\n",
              "      <td>202208</td>\n",
              "      <td>74</td>\n",
              "      <td>1</td>\n",
              "      <td>511.363636</td>\n",
              "      <td>2</td>\n",
              "      <td>1022.727273</td>\n",
              "      <td>0.000000</td>\n",
              "      <td>0.000000</td>\n",
              "      <td>...</td>\n",
              "      <td>0.000000</td>\n",
              "      <td>7947.058034</td>\n",
              "      <td>2.0</td>\n",
              "      <td>0.0</td>\n",
              "      <td>2110.862161</td>\n",
              "      <td>5.000000e-01</td>\n",
              "      <td>1022.727273</td>\n",
              "      <td>1.000000</td>\n",
              "      <td>0.00000</td>\n",
              "      <td>0.0</td>\n",
              "    </tr>\n",
              "    <tr>\n",
              "      <th>3</th>\n",
              "      <td>231352</td>\n",
              "      <td>4</td>\n",
              "      <td>202208</td>\n",
              "      <td>80</td>\n",
              "      <td>0</td>\n",
              "      <td>1704.545455</td>\n",
              "      <td>4</td>\n",
              "      <td>0.000000</td>\n",
              "      <td>0.000000</td>\n",
              "      <td>0.000000</td>\n",
              "      <td>...</td>\n",
              "      <td>4096.864773</td>\n",
              "      <td>3469.013636</td>\n",
              "      <td>17.0</td>\n",
              "      <td>4.0</td>\n",
              "      <td>738.636364</td>\n",
              "      <td>0.000000e+00</td>\n",
              "      <td>0.000000</td>\n",
              "      <td>0.000000</td>\n",
              "      <td>0.09869</td>\n",
              "      <td>0.0</td>\n",
              "    </tr>\n",
              "    <tr>\n",
              "      <th>4</th>\n",
              "      <td>231353</td>\n",
              "      <td>5</td>\n",
              "      <td>202208</td>\n",
              "      <td>77</td>\n",
              "      <td>1</td>\n",
              "      <td>0.001136</td>\n",
              "      <td>4</td>\n",
              "      <td>7954.545455</td>\n",
              "      <td>2716.700000</td>\n",
              "      <td>583.101136</td>\n",
              "      <td>...</td>\n",
              "      <td>1136.363636</td>\n",
              "      <td>2772.020455</td>\n",
              "      <td>10.0</td>\n",
              "      <td>1.0</td>\n",
              "      <td>1135.607955</td>\n",
              "      <td>1.428571e-07</td>\n",
              "      <td>5237.845455</td>\n",
              "      <td>0.658472</td>\n",
              "      <td>0.00000</td>\n",
              "      <td>0.0</td>\n",
              "    </tr>\n",
              "  </tbody>\n",
              "</table>\n",
              "<p>5 rows × 21 columns</p>\n",
              "</div>\n",
              "      <button class=\"colab-df-convert\" onclick=\"convertToInteractive('df-dacf825d-8be4-41f0-b509-39be50a4db1a')\"\n",
              "              title=\"Convert this dataframe to an interactive table.\"\n",
              "              style=\"display:none;\">\n",
              "        \n",
              "  <svg xmlns=\"http://www.w3.org/2000/svg\" height=\"24px\"viewBox=\"0 0 24 24\"\n",
              "       width=\"24px\">\n",
              "    <path d=\"M0 0h24v24H0V0z\" fill=\"none\"/>\n",
              "    <path d=\"M18.56 5.44l.94 2.06.94-2.06 2.06-.94-2.06-.94-.94-2.06-.94 2.06-2.06.94zm-11 1L8.5 8.5l.94-2.06 2.06-.94-2.06-.94L8.5 2.5l-.94 2.06-2.06.94zm10 10l.94 2.06.94-2.06 2.06-.94-2.06-.94-.94-2.06-.94 2.06-2.06.94z\"/><path d=\"M17.41 7.96l-1.37-1.37c-.4-.4-.92-.59-1.43-.59-.52 0-1.04.2-1.43.59L10.3 9.45l-7.72 7.72c-.78.78-.78 2.05 0 2.83L4 21.41c.39.39.9.59 1.41.59.51 0 1.02-.2 1.41-.59l7.78-7.78 2.81-2.81c.8-.78.8-2.07 0-2.86zM5.41 20L4 18.59l7.72-7.72 1.47 1.35L5.41 20z\"/>\n",
              "  </svg>\n",
              "      </button>\n",
              "      \n",
              "  <style>\n",
              "    .colab-df-container {\n",
              "      display:flex;\n",
              "      flex-wrap:wrap;\n",
              "      gap: 12px;\n",
              "    }\n",
              "\n",
              "    .colab-df-convert {\n",
              "      background-color: #E8F0FE;\n",
              "      border: none;\n",
              "      border-radius: 50%;\n",
              "      cursor: pointer;\n",
              "      display: none;\n",
              "      fill: #1967D2;\n",
              "      height: 32px;\n",
              "      padding: 0 0 0 0;\n",
              "      width: 32px;\n",
              "    }\n",
              "\n",
              "    .colab-df-convert:hover {\n",
              "      background-color: #E2EBFA;\n",
              "      box-shadow: 0px 1px 2px rgba(60, 64, 67, 0.3), 0px 1px 3px 1px rgba(60, 64, 67, 0.15);\n",
              "      fill: #174EA6;\n",
              "    }\n",
              "\n",
              "    [theme=dark] .colab-df-convert {\n",
              "      background-color: #3B4455;\n",
              "      fill: #D2E3FC;\n",
              "    }\n",
              "\n",
              "    [theme=dark] .colab-df-convert:hover {\n",
              "      background-color: #434B5C;\n",
              "      box-shadow: 0px 1px 3px 1px rgba(0, 0, 0, 0.15);\n",
              "      filter: drop-shadow(0px 1px 2px rgba(0, 0, 0, 0.3));\n",
              "      fill: #FFFFFF;\n",
              "    }\n",
              "  </style>\n",
              "\n",
              "      <script>\n",
              "        const buttonEl =\n",
              "          document.querySelector('#df-dacf825d-8be4-41f0-b509-39be50a4db1a button.colab-df-convert');\n",
              "        buttonEl.style.display =\n",
              "          google.colab.kernel.accessAllowed ? 'block' : 'none';\n",
              "\n",
              "        async function convertToInteractive(key) {\n",
              "          const element = document.querySelector('#df-dacf825d-8be4-41f0-b509-39be50a4db1a');\n",
              "          const dataTable =\n",
              "            await google.colab.kernel.invokeFunction('convertToInteractive',\n",
              "                                                     [key], {});\n",
              "          if (!dataTable) return;\n",
              "\n",
              "          const docLinkHtml = 'Like what you see? Visit the ' +\n",
              "            '<a target=\"_blank\" href=https://colab.research.google.com/notebooks/data_table.ipynb>data table notebook</a>'\n",
              "            + ' to learn more about interactive tables.';\n",
              "          element.innerHTML = '';\n",
              "          dataTable['output_type'] = 'display_data';\n",
              "          await google.colab.output.renderOutput(dataTable, element);\n",
              "          const docLink = document.createElement('div');\n",
              "          docLink.innerHTML = docLinkHtml;\n",
              "          element.appendChild(docLink);\n",
              "        }\n",
              "      </script>\n",
              "    </div>\n",
              "  </div>\n",
              "  "
            ]
          },
          "metadata": {},
          "execution_count": 30
        }
      ],
      "source": [
        "df.head()"
      ]
    },
    {
      "cell_type": "code",
      "execution_count": null,
      "metadata": {
        "colab": {
          "base_uri": "https://localhost:8080/"
        },
        "id": "eCrEcctDVZeK",
        "outputId": "e1d155e6-5216-4cb1-94e5-1743b6411b18"
      },
      "outputs": [
        {
          "output_type": "execute_result",
          "data": {
            "text/plain": [
              "Index(['Unnamed: 0', 'id', 'periodo', 'edad', 'sexo_1', 'renta', 'Q_prods',\n",
              "       'TC_cupo', 'TC_saldo', 'CCTE_saldo', 'LCRED_cupo', 'LCRED_saldo',\n",
              "       'ABONO_monto', 'ABONO_op', 'TRANS_op', 'TRANS_monto', 'TC_renta_cupo',\n",
              "       'TC_gasto', 'TC_ratio_cupo', 'LCRED_ratio_cupo', 'aumento'],\n",
              "      dtype='object')"
            ]
          },
          "metadata": {},
          "execution_count": 31
        }
      ],
      "source": [
        "df.columns"
      ]
    },
    {
      "cell_type": "code",
      "execution_count": null,
      "metadata": {
        "id": "6ZPcPph_3_WZ"
      },
      "outputs": [],
      "source": [
        "X_test = df.copy()\n",
        "mask = X_test['periodo'] == 202208\n",
        "\n",
        "X_test = df[mask]"
      ]
    },
    {
      "cell_type": "code",
      "execution_count": null,
      "metadata": {
        "id": "PhSRdbPx4Zri"
      },
      "outputs": [],
      "source": [
        "y_test = X_test['aumento']\n",
        "X_test = X_test.drop(columns=['aumento','id','periodo','Unnamed: 0'])"
      ]
    },
    {
      "cell_type": "code",
      "execution_count": null,
      "metadata": {
        "id": "KVI-3x4eVbIg"
      },
      "outputs": [],
      "source": [
        "X = df.copy()\n",
        "mask = X['periodo'] != 202208\n",
        "X = X[mask]\n",
        "\n",
        "X_train= X.drop(columns=['aumento','id','periodo','Unnamed: 0'])\n",
        "y_train = X['aumento']"
      ]
    },
    {
      "cell_type": "markdown",
      "metadata": {
        "id": "C7ZW156NgSsc"
      },
      "source": [
        "# Modelos Básicos"
      ]
    },
    {
      "cell_type": "markdown",
      "metadata": {
        "id": "U0qwCbrVTNJR"
      },
      "source": [
        "## Split y Escalar Data"
      ]
    },
    {
      "cell_type": "code",
      "execution_count": null,
      "metadata": {
        "id": "yioISfduKqa8"
      },
      "outputs": [],
      "source": [
        "from sklearn.preprocessing import StandardScaler\n",
        "sc = StandardScaler()\n",
        "X_train = sc.fit_transform(X_train)\n",
        "#X_val = sc.transform(X_val)\n",
        "X_test = sc.transform(X_test)"
      ]
    },
    {
      "cell_type": "code",
      "execution_count": null,
      "metadata": {
        "id": "wJ4T4UKOJ3CF"
      },
      "outputs": [],
      "source": [
        "from sklearn.model_selection import train_test_split\n",
        "X_train, X_val, y_train, y_val = train_test_split(X_train, y_train, train_size=0.8, test_size=0.2, random_state=12345,shuffle=True, stratify=y_train)"
      ]
    },
    {
      "cell_type": "code",
      "execution_count": null,
      "metadata": {
        "id": "TREJBdNqFcLl"
      },
      "outputs": [],
      "source": [
        "import sklearn\n",
        "from imblearn.under_sampling import RandomUnderSampler"
      ]
    },
    {
      "cell_type": "code",
      "execution_count": null,
      "metadata": {
        "id": "Kd3XYXWGKDzB"
      },
      "outputs": [],
      "source": [
        "rus = RandomUnderSampler(random_state=42)\n",
        "X_resampled, y_resampled = rus.fit_resample(X_train, y_train)"
      ]
    },
    {
      "cell_type": "code",
      "execution_count": null,
      "metadata": {
        "colab": {
          "base_uri": "https://localhost:8080/"
        },
        "id": "hNYV9yyNVwep",
        "outputId": "89061b55-464b-42b6-e0c9-d034fde03e6e"
      },
      "outputs": [
        {
          "output_type": "execute_result",
          "data": {
            "text/plain": [
              "(35606, 17)"
            ]
          },
          "metadata": {},
          "execution_count": 39
        }
      ],
      "source": [
        "X_resampled.shape"
      ]
    },
    {
      "cell_type": "code",
      "execution_count": null,
      "metadata": {
        "colab": {
          "base_uri": "https://localhost:8080/"
        },
        "id": "_HFpQrKGV8Mp",
        "outputId": "ea027fcc-3eb0-4577-d9ac-d804ba11e8a0"
      },
      "outputs": [
        {
          "output_type": "execute_result",
          "data": {
            "text/plain": [
              "0.0    17803\n",
              "1.0    17803\n",
              "Name: aumento, dtype: int64"
            ]
          },
          "metadata": {},
          "execution_count": 40
        }
      ],
      "source": [
        "y_resampled.value_counts()"
      ]
    },
    {
      "cell_type": "code",
      "execution_count": null,
      "metadata": {
        "id": "r0h9W1XFFcLl"
      },
      "outputs": [],
      "source": [
        "#! pip3 install xgboost"
      ]
    },
    {
      "cell_type": "markdown",
      "metadata": {
        "id": "xZlEH_t7TQnu"
      },
      "source": [
        "## Machine Learning"
      ]
    },
    {
      "cell_type": "markdown",
      "metadata": {
        "id": "yWH8a-C81MJ8"
      },
      "source": [
        "### XGBoost"
      ]
    },
    {
      "cell_type": "code",
      "execution_count": null,
      "metadata": {
        "id": "3tIreJl-7Rfp"
      },
      "outputs": [],
      "source": [
        "from xgboost import XGBClassifier"
      ]
    },
    {
      "cell_type": "code",
      "execution_count": null,
      "metadata": {
        "colab": {
          "base_uri": "https://localhost:8080/"
        },
        "id": "12WyfnPz5vRZ",
        "outputId": "05984745-f1ac-4848-d012-f7218d5d6d74"
      },
      "outputs": [
        {
          "output_type": "stream",
          "name": "stdout",
          "text": [
            "CPU times: user 1min 45s, sys: 939 ms, total: 1min 46s\n",
            "Wall time: 1min 59s\n"
          ]
        },
        {
          "output_type": "execute_result",
          "data": {
            "text/plain": [
              "XGBClassifier(clf__tree_method='gpu_hist', n_estimators=1000,\n",
              "              random_state=12345)"
            ]
          },
          "metadata": {},
          "execution_count": 43
        }
      ],
      "source": [
        "import time\n",
        "# create a default XGBoost classifier\n",
        "xgb = XGBClassifier(n_estimators=1000, random_state=12345,clf__tree_method='gpu_hist')\n",
        "# define the eval set and metric\n",
        "eval_set = [(X_resampled, y_resampled), (X_val, y_val)]\n",
        "eval_metric = [\"auc\",\"error\"]\n",
        "# fit the model\n",
        "%time xgb.fit(X_resampled, y_resampled, eval_metric=eval_metric, eval_set=eval_set, verbose=False)"
      ]
    },
    {
      "cell_type": "code",
      "source": [
        "from sklearn.metrics import f1_score, recall_score, accuracy_score"
      ],
      "metadata": {
        "id": "XexnEQQ9neFH"
      },
      "execution_count": null,
      "outputs": []
    },
    {
      "cell_type": "code",
      "source": [
        "y_pred_test = xgb.predict(X_test)\n",
        "y_pred_train = xgb.predict(X_resampled)"
      ],
      "metadata": {
        "id": "krCFAqNJnlDM"
      },
      "execution_count": null,
      "outputs": []
    },
    {
      "cell_type": "code",
      "source": [
        "print('recall (train):',recall_score(y_resampled,y_pred_train))\n",
        "\n",
        "print('recall (test):',recall_score(y_test,y_pred_test))"
      ],
      "metadata": {
        "colab": {
          "base_uri": "https://localhost:8080/"
        },
        "id": "ToXzqnvHoMQE",
        "outputId": "bff09826-5928-48e7-c2af-2b38b7488001"
      },
      "execution_count": null,
      "outputs": [
        {
          "output_type": "stream",
          "name": "stdout",
          "text": [
            "recall (train): 0.799696680334775\n",
            "recall (test): 0.7528886554621849\n"
          ]
        }
      ]
    },
    {
      "cell_type": "code",
      "source": [
        "print('f1 score (train):',f1_score(y_resampled,y_pred_train))\n",
        "\n",
        "print('f1 score (test):',f1_score(y_test,y_pred_test))"
      ],
      "metadata": {
        "colab": {
          "base_uri": "https://localhost:8080/"
        },
        "id": "F8kytERUnenf",
        "outputId": "a74c1e95-aa0b-4874-822e-95cf9e5bd00a"
      },
      "execution_count": null,
      "outputs": [
        {
          "output_type": "stream",
          "name": "stdout",
          "text": [
            "f1 score (train): 0.7677208875947046\n",
            "f1 score (test): 0.06580895433313058\n"
          ]
        }
      ]
    },
    {
      "cell_type": "code",
      "source": [
        "print('accuracy (train):',accuracy_score(y_resampled,y_pred_train))\n",
        "\n",
        "print('accuracy (test):',accuracy_score(y_test,y_pred_test))"
      ],
      "metadata": {
        "colab": {
          "base_uri": "https://localhost:8080/"
        },
        "id": "9FWZvA_tpzf5",
        "outputId": "ceefadb9-b687-463a-eee7-92486e8236a2"
      },
      "execution_count": null,
      "outputs": [
        {
          "output_type": "stream",
          "name": "stdout",
          "text": [
            "accuracy (train): 0.7580463966747177\n",
            "accuracy (test): 0.6482335400505629\n"
          ]
        }
      ]
    },
    {
      "cell_type": "code",
      "execution_count": null,
      "metadata": {
        "colab": {
          "base_uri": "https://localhost:8080/"
        },
        "id": "EvjoteeF7zJy",
        "outputId": "6ba4cf70-d717-40fb-d143-725464a7f6f3"
      },
      "outputs": [
        {
          "output_type": "stream",
          "name": "stdout",
          "text": [
            "              precision    recall  f1-score   support\n",
            "\n",
            "         0.0       0.99      0.65      0.78    227587\n",
            "         1.0       0.03      0.75      0.07      3808\n",
            "\n",
            "    accuracy                           0.65    231395\n",
            "   macro avg       0.51      0.70      0.42    231395\n",
            "weighted avg       0.98      0.65      0.77    231395\n",
            "\n"
          ]
        }
      ],
      "source": [
        "from sklearn.metrics import classification_report\n",
        "print(classification_report(y_test, xgb.predict(X_test)))"
      ]
    },
    {
      "cell_type": "code",
      "execution_count": null,
      "metadata": {
        "colab": {
          "base_uri": "https://localhost:8080/",
          "height": 426
        },
        "id": "vFgf0y9n76zK",
        "outputId": "630eba13-a52e-4608-a63f-37f927bde9e8"
      },
      "outputs": [
        {
          "output_type": "display_data",
          "data": {
            "text/plain": [
              "<Figure size 432x432 with 1 Axes>"
            ],
            "image/png": "[encoded data removed]"
          },
          "metadata": {}
        }
      ],
      "source": [
        "from sklearn.metrics import confusion_matrix\n",
        "from mlxtend.plotting import plot_confusion_matrix\n",
        "fig, ax = plot_confusion_matrix(conf_mat=confusion_matrix(y_test,xgb.predict(X_test)), figsize=(6,6),cmap = cmap)\n",
        "plt.title('Matriz de confusión')\n",
        "plt.show()"
      ]
    },
    {
      "cell_type": "code",
      "execution_count": null,
      "metadata": {
        "id": "KJaT7V-y5vOS",
        "colab": {
          "base_uri": "https://localhost:8080/"
        },
        "outputId": "5a576ebc-b042-441b-e6ec-af86cc27614b"
      },
      "outputs": [
        {
          "output_type": "stream",
          "name": "stdout",
          "text": [
            "CPU times: user 9min 59s, sys: 1.07 s, total: 10min\n",
            "Wall time: 10min 3s\n",
            "Mejor combinación de parámetros:\n",
            "{'gamma': 0.1, 'n_estimators': 500, 'reg_lambda': 1}\n"
          ]
        }
      ],
      "source": [
        "from sklearn.model_selection import GridSearchCV\n",
        "#Configure tuned_parameters\n",
        "tuned_parameters = {\n",
        "  #\"learning_rate\": [0.1, 0.01],\n",
        "  #\"colsample_bytree\": [0.6, 0.8, 1.0],\n",
        "  \"n_estimators\": [500,1000],\n",
        "  \"reg_lambda\": [1, 1.5],\n",
        "  \"gamma\": [0, 0.1]\n",
        "}\n",
        "\n",
        "#set scoring metric\n",
        "score = 'f1_macro' \n",
        "\n",
        "clf = XGBClassifier(\n",
        "    random_state=12345,\n",
        "    clf__tree_method='gpu_hist' \n",
        ")\n",
        "\n",
        "#Construir el clf con GridSearch\n",
        "model = GridSearchCV(clf, \n",
        "                   param_grid=tuned_parameters, \n",
        "                   cv=5,\n",
        "                   scoring=score)\n",
        "\n",
        "#Entrenar clf\n",
        "%time best_model = model.fit(X_resampled,y_resampled)\n",
        "\n",
        "print(\"Mejor combinación de parámetros:\")\n",
        "print(best_model.best_params_)"
      ]
    },
    {
      "cell_type": "code",
      "execution_count": null,
      "metadata": {
        "colab": {
          "base_uri": "https://localhost:8080/"
        },
        "id": "zA8t8-lzgYkK",
        "outputId": "a31e731a-87c4-4a91-e966-8e16aa75cb72"
      },
      "outputs": [
        {
          "output_type": "stream",
          "name": "stdout",
          "text": [
            "              precision    recall  f1-score   support\n",
            "\n",
            "         0.0       0.99      0.64      0.78    227587\n",
            "         1.0       0.03      0.75      0.07      3808\n",
            "\n",
            "    accuracy                           0.64    231395\n",
            "   macro avg       0.51      0.70      0.42    231395\n",
            "weighted avg       0.98      0.64      0.77    231395\n",
            "\n"
          ]
        }
      ],
      "source": [
        "from sklearn.metrics import classification_report\n",
        "print(classification_report(y_test, best_model.predict(X_test)))"
      ]
    },
    {
      "cell_type": "code",
      "execution_count": null,
      "metadata": {
        "colab": {
          "base_uri": "https://localhost:8080/",
          "height": 426
        },
        "id": "qYUTCUoPjVMa",
        "outputId": "4fb3553e-3cb2-413b-ebb1-acc6203bcefe"
      },
      "outputs": [
        {
          "output_type": "display_data",
          "data": {
            "text/plain": [
              "<Figure size 432x432 with 1 Axes>"
            ],
            "image/png": "[encoded data removed]"
          },
          "metadata": {}
        }
      ],
      "source": [
        "fig, ax = plot_confusion_matrix(conf_mat=confusion_matrix(y_test,best_model.predict(X_test)), figsize=(6,6),cmap = cmap)\n",
        "plt.title('Matriz de confusión')\n",
        "plt.show()"
      ]
    },
    {
      "cell_type": "markdown",
      "metadata": {
        "id": "YJKfi2wF1Qkf"
      },
      "source": [
        "### Random Forest"
      ]
    },
    {
      "cell_type": "code",
      "execution_count": null,
      "metadata": {
        "colab": {
          "base_uri": "https://localhost:8080/"
        },
        "id": "-wbpUZA1x43c",
        "outputId": "8b7d265a-0c50-4bd6-eaaa-aa9b200ec0e5"
      },
      "outputs": [
        {
          "output_type": "stream",
          "name": "stdout",
          "text": [
            "CPU times: user 1min 36s, sys: 612 ms, total: 1min 37s\n",
            "Wall time: 1min 37s\n"
          ]
        },
        {
          "output_type": "execute_result",
          "data": {
            "text/plain": [
              "RandomForestClassifier(n_estimators=1000, random_state=12345)"
            ]
          },
          "metadata": {},
          "execution_count": 26
        }
      ],
      "source": [
        "from sklearn.ensemble import RandomForestClassifier\n",
        "rf = RandomForestClassifier(random_state=12345, n_estimators=1000)\n",
        "%time rf.fit(X_resampled,y_resampled)"
      ]
    },
    {
      "cell_type": "code",
      "execution_count": null,
      "metadata": {
        "colab": {
          "base_uri": "https://localhost:8080/"
        },
        "id": "g1jLzyvsx402",
        "outputId": "298ffbe1-b33c-448b-adae-4c706b9bc950"
      },
      "outputs": [
        {
          "name": "stdout",
          "output_type": "stream",
          "text": [
            "              precision    recall  f1-score   support\n",
            "\n",
            "         0.0       0.99      0.64      0.78    227587\n",
            "         1.0       0.03      0.76      0.07      3808\n",
            "\n",
            "    accuracy                           0.64    231395\n",
            "   macro avg       0.51      0.70      0.42    231395\n",
            "weighted avg       0.98      0.64      0.77    231395\n",
            "\n"
          ]
        }
      ],
      "source": [
        "from sklearn.metrics import classification_report\n",
        "print(classification_report(y_test, rf.predict(X_test)))"
      ]
    },
    {
      "cell_type": "code",
      "execution_count": null,
      "metadata": {
        "colab": {
          "base_uri": "https://localhost:8080/",
          "height": 426
        },
        "id": "ZikVa-vkx4yP",
        "outputId": "d6255da1-e44a-40a7-a24b-da134d43f80f"
      },
      "outputs": [
        {
          "data": {
            "image/png": "[encoded data removed]",
            "text/plain": [
              "<Figure size 432x432 with 1 Axes>"
            ]
          },
          "metadata": {},
          "output_type": "display_data"
        }
      ],
      "source": [
        "from sklearn.metrics import confusion_matrix\n",
        "from mlxtend.plotting import plot_confusion_matrix\n",
        "fig, ax = plot_confusion_matrix(conf_mat=confusion_matrix(y_test,rf.predict(X_test)), figsize=(6,6),cmap = cmap)\n",
        "plt.title('Matriz de confusión')\n",
        "plt.show()"
      ]
    },
    {
      "cell_type": "code",
      "execution_count": null,
      "metadata": {
        "colab": {
          "base_uri": "https://localhost:8080/"
        },
        "id": "wmnqT1pwx4va",
        "outputId": "d2148f0a-2d18-45a2-df04-b8170e83f243"
      },
      "outputs": [
        {
          "output_type": "stream",
          "name": "stdout",
          "text": [
            "CPU times: user 10min 39s, sys: 1.12 s, total: 10min 40s\n",
            "Wall time: 10min 40s\n",
            "Mejor combinación de parámetros:\n",
            "{'max_depth': 5, 'min_samples_split': 4, 'n_estimators': 1000}\n"
          ]
        }
      ],
      "source": [
        "from sklearn.model_selection import GridSearchCV\n",
        "#Configure tuned_parameters\n",
        "tuned_parameters = {\n",
        "  #\"learning_rate\": [0.1, 0.01],\n",
        "  #\"colsample_bytree\": [0.6, 0.8, 1.0],\n",
        "  \"min_samples_split\": [4],\n",
        "  \"n_estimators\": [300,500,1000],\n",
        "  'max_depth' : [3,4,5]\n",
        "}\n",
        "\n",
        "#set scoring metric\n",
        "score = 'f1_macro' \n",
        "\n",
        "clf = RandomForestClassifier(\n",
        "    random_state=12345\n",
        ")\n",
        "\n",
        "#Construir el clf con GridSearch\n",
        "model_rf = GridSearchCV(clf, \n",
        "                   param_grid=tuned_parameters, \n",
        "                   cv=5,\n",
        "                   scoring=score)\n",
        "\n",
        "#Entrenar clf\n",
        "%time best_rf = model_rf.fit(X_resampled,y_resampled)\n",
        "\n",
        "print(\"Mejor combinación de parámetros:\")\n",
        "print(best_rf.best_params_)"
      ]
    },
    {
      "cell_type": "code",
      "execution_count": null,
      "metadata": {
        "id": "8bFIqlAl_cHq"
      },
      "outputs": [],
      "source": [
        "recall max_depth': 3, 'min_samples_split': 4, 'n_estimators': 500\n",
        "f1 {'max_depth': 4, 'min_samples_split': 4, 'n_estimators': 500}"
      ]
    },
    {
      "cell_type": "code",
      "execution_count": null,
      "metadata": {
        "colab": {
          "base_uri": "https://localhost:8080/"
        },
        "id": "s4CVCLJyyemY",
        "outputId": "f18daed5-94ac-46d9-a6ad-1fd3991b3baa"
      },
      "outputs": [
        {
          "output_type": "stream",
          "name": "stdout",
          "text": [
            "              precision    recall  f1-score   support\n",
            "\n",
            "         0.0       0.99      0.53      0.70    227587\n",
            "         1.0       0.03      0.79      0.05      3808\n",
            "\n",
            "    accuracy                           0.54    231395\n",
            "   macro avg       0.51      0.66      0.37    231395\n",
            "weighted avg       0.98      0.54      0.68    231395\n",
            "\n"
          ]
        }
      ],
      "source": [
        "from sklearn.metrics import classification_report\n",
        "print(classification_report(y_test, best_rf.predict(X_test)))"
      ]
    },
    {
      "cell_type": "code",
      "execution_count": null,
      "metadata": {
        "colab": {
          "base_uri": "https://localhost:8080/",
          "height": 426
        },
        "id": "s2DU_ymlyf2l",
        "outputId": "e9c03339-2340-4b51-eda4-6f653af5293b"
      },
      "outputs": [
        {
          "output_type": "display_data",
          "data": {
            "text/plain": [
              "<Figure size 432x432 with 1 Axes>"
            ],
            "image/png": "[encoded data removed]"
          },
          "metadata": {}
        }
      ],
      "source": [
        "fig, ax = plot_confusion_matrix(conf_mat=confusion_matrix(y_test,best_rf.predict(X_test)), figsize=(6,6),cmap = cmap)\n",
        "plt.title('Matriz de confusión')\n",
        "plt.show()"
      ]
    },
    {
      "cell_type": "code",
      "source": [
        "from sklearn.ensemble import RandomForestClassifier\n",
        "model = RandomForestClassifier(\n",
        "    random_state = 12345,\n",
        "    max_depth = 5,\n",
        "    min_samples_split = 4,\n",
        "    n_estimators = 1000\n",
        ")\n",
        "%time model.fit(X_resampled, y_resampled)"
      ],
      "metadata": {
        "colab": {
          "base_uri": "https://localhost:8080/"
        },
        "id": "Tzei1rZdNARR",
        "outputId": "41e42bdb-dd07-42d0-fe87-f42e83bed6ce"
      },
      "execution_count": null,
      "outputs": [
        {
          "output_type": "stream",
          "name": "stdout",
          "text": [
            "CPU times: user 33.8 s, sys: 68.2 ms, total: 33.9 s\n",
            "Wall time: 33.8 s\n"
          ]
        },
        {
          "output_type": "execute_result",
          "data": {
            "text/plain": [
              "RandomForestClassifier(max_depth=5, min_samples_split=4, n_estimators=1000,\n",
              "                       random_state=12345)"
            ]
          },
          "metadata": {},
          "execution_count": 101
        }
      ]
    },
    {
      "cell_type": "code",
      "source": [
        "y_pred_test = model.predict(X_test)\n",
        "y_pred_train = model.predict(X_resampled)"
      ],
      "metadata": {
        "id": "2r9MKEpZpMug"
      },
      "execution_count": null,
      "outputs": []
    },
    {
      "cell_type": "code",
      "source": [
        "print('recall (train):',recall_score(y_resampled,y_pred_train))\n",
        "\n",
        "print('recall (test):',recall_score(y_test,y_pred_test))"
      ],
      "metadata": {
        "colab": {
          "base_uri": "https://localhost:8080/"
        },
        "outputId": "f27766ec-66ce-44ab-a8c9-3a75baf65f81",
        "id": "Qe8fYgo1p--X"
      },
      "execution_count": null,
      "outputs": [
        {
          "output_type": "stream",
          "name": "stdout",
          "text": [
            "recall (train): 0.7788574959276526\n",
            "recall (test): 0.7883403361344538\n"
          ]
        }
      ]
    },
    {
      "cell_type": "code",
      "source": [
        "print('f1 score (train):',f1_score(y_resampled,y_pred_train))\n",
        "\n",
        "print('f1 score (test):',f1_score(y_test,y_pred_test))"
      ],
      "metadata": {
        "colab": {
          "base_uri": "https://localhost:8080/"
        },
        "outputId": "0ca31740-830a-4d11-b226-6b4da3b4fdad",
        "id": "AxG7cFm-p--W"
      },
      "execution_count": null,
      "outputs": [
        {
          "output_type": "stream",
          "name": "stdout",
          "text": [
            "f1 score (train): 0.7021826100167113\n",
            "f1 score (test): 0.05326283666299989\n"
          ]
        }
      ]
    },
    {
      "cell_type": "code",
      "source": [
        "print('accuracy (train):',accuracy_score(y_resampled,y_pred_train))\n",
        "\n",
        "print('accuracy (test):',accuracy_score(y_test,y_pred_test))"
      ],
      "metadata": {
        "colab": {
          "base_uri": "https://localhost:8080/"
        },
        "outputId": "e35cfd3a-add3-4d83-be51-10527a367b1a",
        "id": "pnzZNhGip--X"
      },
      "execution_count": null,
      "outputs": [
        {
          "output_type": "stream",
          "name": "stdout",
          "text": [
            "accuracy (train): 0.6696624164466662\n",
            "accuracy (test): 0.5387972946692885\n"
          ]
        }
      ]
    },
    {
      "cell_type": "markdown",
      "metadata": {
        "id": "YkiESsID1TCD"
      },
      "source": [
        "### Decision Tree"
      ]
    },
    {
      "cell_type": "code",
      "execution_count": null,
      "metadata": {
        "colab": {
          "base_uri": "https://localhost:8080/"
        },
        "id": "qETlFrlYykQ2",
        "outputId": "be6fb4d4-04f6-46c8-dcae-70a267213064"
      },
      "outputs": [
        {
          "output_type": "execute_result",
          "data": {
            "text/plain": [
              "DecisionTreeClassifier(random_state=12345)"
            ]
          },
          "metadata": {},
          "execution_count": 74
        }
      ],
      "source": [
        "from sklearn.tree import DecisionTreeClassifier\n",
        "dt = DecisionTreeClassifier(random_state=12345)\n",
        "dt.fit(X_resampled,y_resampled)"
      ]
    },
    {
      "cell_type": "code",
      "source": [
        "y_pred_test = dt.predict(X_test)\n",
        "y_pred_train = dt.predict(X_resampled)"
      ],
      "metadata": {
        "id": "H7KYg7h_nunM"
      },
      "execution_count": null,
      "outputs": []
    },
    {
      "cell_type": "code",
      "source": [
        "print('recall (train):',recall_score(y_resampled,y_pred_train))\n",
        "\n",
        "print('recall (test):',recall_score(y_test,y_pred_test))"
      ],
      "metadata": {
        "colab": {
          "base_uri": "https://localhost:8080/"
        },
        "outputId": "9561470a-e3e4-4328-def0-0f8f124c789f",
        "id": "DVEEJP0vqAYL"
      },
      "execution_count": null,
      "outputs": [
        {
          "output_type": "stream",
          "name": "stdout",
          "text": [
            "recall (train): 0.999943829691625\n",
            "recall (test): 0.6305147058823529\n"
          ]
        }
      ]
    },
    {
      "cell_type": "code",
      "source": [
        "print('f1 score (train):',f1_score(y_resampled,y_pred_train))\n",
        "\n",
        "print('f1 score (test):',f1_score(y_test,y_pred_test))"
      ],
      "metadata": {
        "colab": {
          "base_uri": "https://localhost:8080/"
        },
        "outputId": "96d2f518-72be-477f-991b-f44dae64f9d4",
        "id": "9DKqNIdCqAYL"
      },
      "execution_count": null,
      "outputs": [
        {
          "output_type": "stream",
          "name": "stdout",
          "text": [
            "f1 score (train): 0.9999719140570145\n",
            "f1 score (test): 0.0518244315177155\n"
          ]
        }
      ]
    },
    {
      "cell_type": "code",
      "source": [
        "print('accuracy (train):',accuracy_score(y_resampled,y_pred_train))\n",
        "\n",
        "print('accuracy (test):',accuracy_score(y_test,y_pred_test))"
      ],
      "metadata": {
        "colab": {
          "base_uri": "https://localhost:8080/"
        },
        "outputId": "eb60e849-47ed-42e9-8c23-103475e3177d",
        "id": "HLI0TrDgqAYM"
      },
      "execution_count": null,
      "outputs": [
        {
          "output_type": "stream",
          "name": "stdout",
          "text": [
            "accuracy (train): 0.9999719148458125\n",
            "accuracy (test): 0.620315910023985\n"
          ]
        }
      ]
    },
    {
      "cell_type": "code",
      "execution_count": null,
      "metadata": {
        "colab": {
          "base_uri": "https://localhost:8080/"
        },
        "id": "3X1gH7SaykOC",
        "outputId": "7b1c26be-f3a7-4f40-985a-d9225ef6f179"
      },
      "outputs": [
        {
          "output_type": "stream",
          "name": "stdout",
          "text": [
            "              precision    recall  f1-score   support\n",
            "\n",
            "         0.0       0.99      0.62      0.76    227587\n",
            "         1.0       0.03      0.63      0.05      3808\n",
            "\n",
            "    accuracy                           0.62    231395\n",
            "   macro avg       0.51      0.63      0.41    231395\n",
            "weighted avg       0.97      0.62      0.75    231395\n",
            "\n"
          ]
        }
      ],
      "source": [
        "from sklearn.metrics import classification_report\n",
        "print(classification_report(y_test, dt.predict(X_test)))"
      ]
    },
    {
      "cell_type": "code",
      "execution_count": null,
      "metadata": {
        "colab": {
          "base_uri": "https://localhost:8080/",
          "height": 426
        },
        "id": "AIKcQnZhykLp",
        "outputId": "bedcdcef-cd5b-4ba0-91c8-b2800e20e3f1"
      },
      "outputs": [
        {
          "output_type": "display_data",
          "data": {
            "text/plain": [
              "<Figure size 432x432 with 1 Axes>"
            ],
            "image/png": "[encoded data removed]"
          },
          "metadata": {}
        }
      ],
      "source": [
        "from sklearn.metrics import confusion_matrix\n",
        "from mlxtend.plotting import plot_confusion_matrix\n",
        "fig, ax = plot_confusion_matrix(conf_mat=confusion_matrix(y_test,dt.predict(X_test)), figsize=(6,6),cmap = cmap)\n",
        "plt.title('Matriz de confusión')\n",
        "plt.show()"
      ]
    },
    {
      "cell_type": "markdown",
      "metadata": {
        "id": "sn-swyCo1zN8"
      },
      "source": [
        "### Logit"
      ]
    },
    {
      "cell_type": "code",
      "execution_count": null,
      "metadata": {
        "id": "mb2EmTrP11ds",
        "colab": {
          "base_uri": "https://localhost:8080/"
        },
        "outputId": "08880837-a0cd-4b52-c7ea-595eefd4d07c"
      },
      "outputs": [
        {
          "output_type": "stream",
          "name": "stdout",
          "text": [
            "CPU times: user 381 ms, sys: 225 ms, total: 606 ms\n",
            "Wall time: 329 ms\n"
          ]
        },
        {
          "output_type": "execute_result",
          "data": {
            "text/plain": [
              "LogisticRegression(random_state=12345)"
            ]
          },
          "metadata": {},
          "execution_count": 69
        }
      ],
      "source": [
        "from sklearn.linear_model import LogisticRegression\n",
        "svc = LogisticRegression(random_state=12345)\n",
        "%time svc.fit(X_resampled,y_resampled)"
      ]
    },
    {
      "cell_type": "code",
      "source": [
        "y_pred_test = svc.predict(X_test)\n",
        "y_pred_train = svc.predict(X_resampled)"
      ],
      "metadata": {
        "id": "zDxz_oMSnx-T"
      },
      "execution_count": null,
      "outputs": []
    },
    {
      "cell_type": "code",
      "execution_count": null,
      "metadata": {
        "id": "OhwY2vUd2FZe",
        "colab": {
          "base_uri": "https://localhost:8080/"
        },
        "outputId": "fac7106c-ac4f-4dd8-bc74-489a7780a6e6"
      },
      "outputs": [
        {
          "output_type": "stream",
          "name": "stdout",
          "text": [
            "              precision    recall  f1-score   support\n",
            "\n",
            "         0.0       0.99      0.62      0.76    227587\n",
            "         1.0       0.03      0.61      0.05      3808\n",
            "\n",
            "    accuracy                           0.62    231395\n",
            "   macro avg       0.51      0.61      0.41    231395\n",
            "weighted avg       0.97      0.62      0.75    231395\n",
            "\n"
          ]
        }
      ],
      "source": [
        "from sklearn.metrics import classification_report\n",
        "print(classification_report(y_test, svc.predict(X_test)))"
      ]
    },
    {
      "cell_type": "code",
      "source": [
        "print('recall (train):',recall_score(y_resampled,y_pred_train))\n",
        "\n",
        "print('recall (test):',recall_score(y_test,y_pred_test))"
      ],
      "metadata": {
        "colab": {
          "base_uri": "https://localhost:8080/"
        },
        "outputId": "939e1219-d09c-4c91-fd94-c8b322c82ea3",
        "id": "T9TcQt83qCPP"
      },
      "execution_count": null,
      "outputs": [
        {
          "output_type": "stream",
          "name": "stdout",
          "text": [
            "recall (train): 0.6138291299219233\n",
            "recall (test): 0.6084558823529411\n"
          ]
        }
      ]
    },
    {
      "cell_type": "code",
      "source": [
        "print('f1 score (train):',f1_score(y_resampled,y_pred_train))\n",
        "\n",
        "print('f1 score (test):',f1_score(y_test,y_pred_test))"
      ],
      "metadata": {
        "colab": {
          "base_uri": "https://localhost:8080/"
        },
        "outputId": "b73352a6-c426-4790-fd87-ac6e40897da6",
        "id": "Yy_KrlKJqCPP"
      },
      "execution_count": null,
      "outputs": [
        {
          "output_type": "stream",
          "name": "stdout",
          "text": [
            "f1 score (train): 0.6193957943660375\n",
            "f1 score (test): 0.05021836427278737\n"
          ]
        }
      ]
    },
    {
      "cell_type": "code",
      "source": [
        "print('accuracy (train):',accuracy_score(y_resampled,y_pred_train))\n",
        "\n",
        "print('accuracy (test):',accuracy_score(y_test,y_pred_test))"
      ],
      "metadata": {
        "colab": {
          "base_uri": "https://localhost:8080/"
        },
        "outputId": "8fd9ed47-0b3a-4872-b838-dbd5fa7eae02",
        "id": "FED6BbvQqCPP"
      },
      "execution_count": null,
      "outputs": [
        {
          "output_type": "stream",
          "name": "stdout",
          "text": [
            "accuracy (train): 0.6228163792619221\n",
            "accuracy (test): 0.6212407355387973\n"
          ]
        }
      ]
    },
    {
      "cell_type": "code",
      "execution_count": null,
      "metadata": {
        "id": "vNcTs33c2Hym",
        "colab": {
          "base_uri": "https://localhost:8080/",
          "height": 426
        },
        "outputId": "90bda7f7-8649-4933-986f-349e308688da"
      },
      "outputs": [
        {
          "output_type": "display_data",
          "data": {
            "text/plain": [
              "<Figure size 432x432 with 1 Axes>"
            ],
            "image/png": "[encoded data removed]"
          },
          "metadata": {}
        }
      ],
      "source": [
        "from sklearn.metrics import confusion_matrix\n",
        "from mlxtend.plotting import plot_confusion_matrix\n",
        "fig, ax = plot_confusion_matrix(conf_mat=confusion_matrix(y_test,svc.predict(X_test)), figsize=(6,6),cmap = cmap)\n",
        "plt.title('Matriz de confusión')\n",
        "plt.show()"
      ]
    },
    {
      "cell_type": "markdown",
      "metadata": {
        "id": "7WHtdMiL119M"
      },
      "source": [
        "### KNN"
      ]
    },
    {
      "cell_type": "code",
      "execution_count": null,
      "metadata": {
        "id": "tnVcKRpL14At",
        "colab": {
          "base_uri": "https://localhost:8080/"
        },
        "outputId": "5308573f-d931-4a0f-e5cf-862b7ebf037a"
      },
      "outputs": [
        {
          "output_type": "stream",
          "name": "stdout",
          "text": [
            "CPU times: user 6.15 ms, sys: 0 ns, total: 6.15 ms\n",
            "Wall time: 8.93 ms\n"
          ]
        },
        {
          "output_type": "execute_result",
          "data": {
            "text/plain": [
              "KNeighborsClassifier(n_neighbors=4)"
            ]
          },
          "metadata": {},
          "execution_count": 60
        }
      ],
      "source": [
        "from sklearn.neighbors import KNeighborsClassifier\n",
        "knn = KNeighborsClassifier(n_neighbors=4)\n",
        "%time knn.fit(X_resampled,y_resampled)"
      ]
    },
    {
      "cell_type": "code",
      "source": [
        "y_pred_test = knn.predict(X_test)\n",
        "y_pred_train = knn.predict(X_resampled)"
      ],
      "metadata": {
        "id": "VqusLA-jn061"
      },
      "execution_count": null,
      "outputs": []
    },
    {
      "cell_type": "code",
      "source": [
        "print('recall (train):',recall_score(y_resampled,y_pred_train))\n",
        "\n",
        "print('recall (test):',recall_score(y_test,y_pred_test))"
      ],
      "metadata": {
        "colab": {
          "base_uri": "https://localhost:8080/"
        },
        "outputId": "7a648a8f-7e0e-42fa-ebbe-99f8a289272d",
        "id": "luPYB2RhqEgw"
      },
      "execution_count": null,
      "outputs": [
        {
          "output_type": "stream",
          "name": "stdout",
          "text": [
            "recall (train): 0.608324439701174\n",
            "recall (test): 0.46244747899159666\n"
          ]
        }
      ]
    },
    {
      "cell_type": "code",
      "source": [
        "print('f1 score (train):',f1_score(y_resampled,y_pred_train))\n",
        "\n",
        "print('f1 score (test):',f1_score(y_test,y_pred_test))"
      ],
      "metadata": {
        "colab": {
          "base_uri": "https://localhost:8080/"
        },
        "outputId": "0e7dccfd-baf7-4df8-c299-496ed9b8c01a",
        "id": "2CnzyePmqEgw"
      },
      "execution_count": null,
      "outputs": [
        {
          "output_type": "stream",
          "name": "stdout",
          "text": [
            "f1 score (train): 0.7038180341186029\n",
            "f1 score (test): 0.052093656170036536\n"
          ]
        }
      ]
    },
    {
      "cell_type": "code",
      "source": [
        "print('accuracy (train):',accuracy_score(y_resampled,y_pred_train))\n",
        "\n",
        "print('accuracy (test):',accuracy_score(y_test,y_pred_test))"
      ],
      "metadata": {
        "colab": {
          "base_uri": "https://localhost:8080/"
        },
        "outputId": "d3203ba1-f5e7-40ae-c833-ba3d9f898c59",
        "id": "QRsmkZcnqEgw"
      },
      "execution_count": null,
      "outputs": [
        {
          "output_type": "stream",
          "name": "stdout",
          "text": [
            "accuracy (train): 0.7440038195809695\n",
            "accuracy (test): 0.7230406880010372\n"
          ]
        }
      ]
    },
    {
      "cell_type": "code",
      "execution_count": null,
      "metadata": {
        "id": "sqZhwQrG-ei-",
        "colab": {
          "base_uri": "https://localhost:8080/"
        },
        "outputId": "09ec0245-bf26-4f04-8014-20bab4ae72b3"
      },
      "outputs": [
        {
          "output_type": "stream",
          "name": "stdout",
          "text": [
            "              precision    recall  f1-score   support\n",
            "\n",
            "         0.0       0.99      0.73      0.84    227587\n",
            "         1.0       0.03      0.46      0.05      3808\n",
            "\n",
            "    accuracy                           0.72    231395\n",
            "   macro avg       0.51      0.59      0.44    231395\n",
            "weighted avg       0.97      0.72      0.82    231395\n",
            "\n"
          ]
        }
      ],
      "source": [
        "from sklearn.metrics import classification_report\n",
        "print(classification_report(y_test, knn.predict(X_test)))"
      ]
    },
    {
      "cell_type": "code",
      "execution_count": null,
      "metadata": {
        "id": "Ya_tQfHa-ef2",
        "colab": {
          "base_uri": "https://localhost:8080/",
          "height": 426
        },
        "outputId": "14394b2b-ffdd-4f8e-dcf2-09cb2d3bb2b0"
      },
      "outputs": [
        {
          "output_type": "display_data",
          "data": {
            "text/plain": [
              "<Figure size 432x432 with 1 Axes>"
            ],
            "image/png": "[encoded data removed]"
          },
          "metadata": {}
        }
      ],
      "source": [
        "fig, ax = plot_confusion_matrix(conf_mat=confusion_matrix(y_test,knn.predict(X_test)), figsize=(6,6),cmap = cmap)\n",
        "plt.title('Matriz de confusión')\n",
        "plt.show()"
      ]
    },
    {
      "cell_type": "code",
      "source": [
        "from sklearn.metrics import f1_score, recall\n"
      ],
      "metadata": {
        "id": "icInxIyqnURQ"
      },
      "execution_count": null,
      "outputs": []
    },
    {
      "cell_type": "code",
      "source": [
        "165547+6204+2047+1761"
      ],
      "metadata": {
        "colab": {
          "base_uri": "https://localhost:8080/"
        },
        "id": "IdyDQrMvAwbi",
        "outputId": "ad75f7af-9d59-418a-cfe8-d21ff604cf35"
      },
      "execution_count": null,
      "outputs": [
        {
          "output_type": "execute_result",
          "data": {
            "text/plain": [
              "175559"
            ]
          },
          "metadata": {},
          "execution_count": 1
        }
      ]
    },
    {
      "cell_type": "markdown",
      "metadata": {
        "id": "w2KIoFTx_f2P"
      },
      "source": [
        "# Entrenamiento de la Red Neuronal con Descenso del Gradiente"
      ]
    },
    {
      "cell_type": "markdown",
      "metadata": {
        "id": "pMrxwi5kUQq3"
      },
      "source": [
        "### Confguración de la Red Neuronal"
      ]
    },
    {
      "cell_type": "code",
      "execution_count": null,
      "metadata": {
        "id": "bArsatBin3U0"
      },
      "outputs": [],
      "source": [
        "from tensorflow.keras.callbacks import EarlyStopping , ModelCheckpoint\n",
        "from tensorflow.keras.losses import BinaryCrossentropy\n",
        "from tensorflow.keras.optimizers.schedules import ExponentialDecay\n",
        "from tensorflow.keras.optimizers import SGD\n",
        "from tensorflow.keras.metrics import Precision, Recall, AUC"
      ]
    },
    {
      "cell_type": "code",
      "execution_count": null,
      "metadata": {
        "id": "Q43lmvkcoXii"
      },
      "outputs": [],
      "source": [
        "# CALLBACKS\n",
        "callback_es = EarlyStopping(monitor='val_loss', patience=30)\n",
        "callback_mc = ModelCheckpoint(path_base + '/models/' + 'best_model.hdf5', save_best_only=True, monitor='val_loss', mode='min')\n",
        "\n",
        "# LOSSES\n",
        "loss =  BinaryCrossentropy()\n",
        "\n",
        "# SCHEDULES\n",
        "lr_schedule_ED = ExponentialDecay(initial_learning_rate=1e-3,decay_steps=10,decay_rate=0.95)\n",
        "\n",
        "# OPTIMIZERS\n",
        "opt = SGD(learning_rate=0.001)\n",
        "\n",
        "# METRICS\n",
        "#metric = Precision()\n",
        "metric = Recall()"
      ]
    },
    {
      "cell_type": "code",
      "execution_count": null,
      "metadata": {
        "id": "EUqb9dAkW5-H"
      },
      "outputs": [],
      "source": [
        "import tensorflow as tf\n",
        "from tensorflow import keras\n",
        "from keras.models import Sequential\n",
        "from keras.layers import Dense"
      ]
    },
    {
      "cell_type": "code",
      "execution_count": null,
      "metadata": {
        "id": "x3ghL9lBgscA"
      },
      "outputs": [],
      "source": [
        "# red neuronal feed forward\n",
        "model = Sequential()\n",
        "model.add(Dense(100, input_dim=17,activation='relu'))\n",
        "model.add(Dense(90,activation='relu'))\n",
        "model.add(Dense(80,activation='relu'))\n",
        "model.add(Dense(50,activation='relu'))\n",
        "model.add(Dense(1,activation='sigmoid'))"
      ]
    },
    {
      "cell_type": "code",
      "execution_count": null,
      "metadata": {
        "colab": {
          "base_uri": "https://localhost:8080/"
        },
        "id": "4cbn0CDIoUS8",
        "outputId": "45a65901-86d7-4a83-ccc4-1183fccfd58d"
      },
      "outputs": [
        {
          "name": "stdout",
          "output_type": "stream",
          "text": [
            "Model: \"sequential\"\n",
            "_________________________________________________________________\n",
            " Layer (type)                Output Shape              Param #   \n",
            "=================================================================\n",
            " dense (Dense)               (None, 100)               1800      \n",
            "                                                                 \n",
            " dense_1 (Dense)             (None, 90)                9090      \n",
            "                                                                 \n",
            " dense_2 (Dense)             (None, 80)                7280      \n",
            "                                                                 \n",
            " dense_3 (Dense)             (None, 50)                4050      \n",
            "                                                                 \n",
            " dense_4 (Dense)             (None, 1)                 51        \n",
            "                                                                 \n",
            "=================================================================\n",
            "Total params: 22,271\n",
            "Trainable params: 22,271\n",
            "Non-trainable params: 0\n",
            "_________________________________________________________________\n"
          ]
        }
      ],
      "source": [
        "model.compile(loss=loss, optimizer=opt, metrics=[metric])\n",
        "model.summary()"
      ]
    },
    {
      "cell_type": "markdown",
      "metadata": {
        "id": "sMycFtbRUWNH"
      },
      "source": [
        "### Entrenamiento"
      ]
    },
    {
      "cell_type": "code",
      "execution_count": null,
      "metadata": {
        "colab": {
          "base_uri": "https://localhost:8080/"
        },
        "id": "LZBe_TVwg1aP",
        "outputId": "fd2a3eeb-21af-42dc-f039-7b0d4c93e3ef"
      },
      "outputs": [
        {
          "name": "stdout",
          "output_type": "stream",
          "text": [
            "Epoch 1/100\n",
            "143/143 [==============================] - 7s 28ms/step - loss: 0.7024 - recall: 0.1058 - val_loss: 0.6468 - val_recall: 0.1197\n",
            "Epoch 2/100\n",
            "143/143 [==============================] - 3s 18ms/step - loss: 0.7006 - recall: 0.1221 - val_loss: 0.6530 - val_recall: 0.1373\n",
            "Epoch 3/100\n",
            "143/143 [==============================] - 3s 22ms/step - loss: 0.6990 - recall: 0.1450 - val_loss: 0.6579 - val_recall: 0.1546\n",
            "Epoch 4/100\n",
            "143/143 [==============================] - 3s 18ms/step - loss: 0.6977 - recall: 0.1663 - val_loss: 0.6619 - val_recall: 0.1779\n",
            "Epoch 5/100\n",
            "143/143 [==============================] - 3s 22ms/step - loss: 0.6965 - recall: 0.1869 - val_loss: 0.6654 - val_recall: 0.2006\n",
            "Epoch 6/100\n",
            "143/143 [==============================] - 3s 22ms/step - loss: 0.6954 - recall: 0.2137 - val_loss: 0.6681 - val_recall: 0.2314\n",
            "Epoch 7/100\n",
            "143/143 [==============================] - 3s 22ms/step - loss: 0.6943 - recall: 0.2379 - val_loss: 0.6704 - val_recall: 0.2577\n",
            "Epoch 8/100\n",
            "143/143 [==============================] - 3s 19ms/step - loss: 0.6934 - recall: 0.2681 - val_loss: 0.6723 - val_recall: 0.2862\n",
            "Epoch 9/100\n",
            "143/143 [==============================] - 3s 19ms/step - loss: 0.6925 - recall: 0.2953 - val_loss: 0.6739 - val_recall: 0.3105\n",
            "Epoch 10/100\n",
            "143/143 [==============================] - 3s 19ms/step - loss: 0.6916 - recall: 0.3230 - val_loss: 0.6752 - val_recall: 0.3368\n",
            "Epoch 11/100\n",
            "143/143 [==============================] - 3s 22ms/step - loss: 0.6908 - recall: 0.3499 - val_loss: 0.6762 - val_recall: 0.3592\n",
            "Epoch 12/100\n",
            "143/143 [==============================] - 3s 19ms/step - loss: 0.6900 - recall: 0.3706 - val_loss: 0.6770 - val_recall: 0.3795\n",
            "Epoch 13/100\n",
            "143/143 [==============================] - 3s 22ms/step - loss: 0.6893 - recall: 0.3990 - val_loss: 0.6776 - val_recall: 0.4015\n",
            "Epoch 14/100\n",
            "143/143 [==============================] - 3s 22ms/step - loss: 0.6885 - recall: 0.4107 - val_loss: 0.6781 - val_recall: 0.4168\n",
            "Epoch 15/100\n",
            "143/143 [==============================] - 3s 22ms/step - loss: 0.6878 - recall: 0.4308 - val_loss: 0.6784 - val_recall: 0.4307\n",
            "Epoch 16/100\n",
            "143/143 [==============================] - 3s 18ms/step - loss: 0.6871 - recall: 0.4409 - val_loss: 0.6788 - val_recall: 0.4448\n",
            "Epoch 17/100\n",
            "143/143 [==============================] - 3s 22ms/step - loss: 0.6864 - recall: 0.4586 - val_loss: 0.6789 - val_recall: 0.4532\n",
            "Epoch 18/100\n",
            "143/143 [==============================] - 3s 18ms/step - loss: 0.6858 - recall: 0.4722 - val_loss: 0.6788 - val_recall: 0.4660\n",
            "Epoch 19/100\n",
            "143/143 [==============================] - 3s 20ms/step - loss: 0.6851 - recall: 0.4786 - val_loss: 0.6787 - val_recall: 0.4772\n",
            "Epoch 20/100\n",
            "143/143 [==============================] - 3s 23ms/step - loss: 0.6845 - recall: 0.4862 - val_loss: 0.6785 - val_recall: 0.4837\n",
            "Epoch 21/100\n",
            "143/143 [==============================] - 3s 22ms/step - loss: 0.6839 - recall: 0.4945 - val_loss: 0.6784 - val_recall: 0.4922\n",
            "Epoch 22/100\n",
            "143/143 [==============================] - 3s 18ms/step - loss: 0.6833 - recall: 0.5005 - val_loss: 0.6782 - val_recall: 0.5006\n",
            "Epoch 23/100\n",
            "143/143 [==============================] - 3s 22ms/step - loss: 0.6827 - recall: 0.5092 - val_loss: 0.6779 - val_recall: 0.5037\n",
            "Epoch 24/100\n",
            "143/143 [==============================] - 3s 22ms/step - loss: 0.6821 - recall: 0.5146 - val_loss: 0.6776 - val_recall: 0.5120\n",
            "Epoch 25/100\n",
            "143/143 [==============================] - 3s 22ms/step - loss: 0.6816 - recall: 0.5198 - val_loss: 0.6771 - val_recall: 0.5149\n",
            "Epoch 26/100\n",
            "143/143 [==============================] - 3s 18ms/step - loss: 0.6810 - recall: 0.5235 - val_loss: 0.6768 - val_recall: 0.5215\n",
            "Epoch 27/100\n",
            "143/143 [==============================] - 3s 22ms/step - loss: 0.6805 - recall: 0.5310 - val_loss: 0.6763 - val_recall: 0.5271\n",
            "Epoch 28/100\n",
            "143/143 [==============================] - 3s 18ms/step - loss: 0.6799 - recall: 0.5352 - val_loss: 0.6759 - val_recall: 0.5336\n",
            "Epoch 29/100\n",
            "143/143 [==============================] - 3s 18ms/step - loss: 0.6793 - recall: 0.5397 - val_loss: 0.6755 - val_recall: 0.5370\n",
            "Epoch 30/100\n",
            "143/143 [==============================] - 3s 18ms/step - loss: 0.6788 - recall: 0.5437 - val_loss: 0.6750 - val_recall: 0.5401\n",
            "Epoch 31/100\n",
            "143/143 [==============================] - 3s 22ms/step - loss: 0.6782 - recall: 0.5494 - val_loss: 0.6745 - val_recall: 0.5428\n"
          ]
        }
      ],
      "source": [
        "max_epochs = 100\n",
        "history = model.fit(X_resampled,y_resampled, epochs=max_epochs, validation_data=(X_val, y_val),batch_size=250, callbacks=[callback_es,callback_mc],verbose=1)"
      ]
    },
    {
      "cell_type": "markdown",
      "metadata": {
        "id": "Y_RJbnDH_fur"
      },
      "source": [
        "# Evaluación"
      ]
    },
    {
      "cell_type": "code",
      "execution_count": null,
      "metadata": {
        "id": "jAm6YlzqsQBK"
      },
      "outputs": [],
      "source": [
        "acc = history.history['recall']\n",
        "test_acc = history.history['val_recall']\n",
        "\n",
        "loss = history.history['loss']\n",
        "test_loss = history.history['val_loss']"
      ]
    },
    {
      "cell_type": "code",
      "execution_count": null,
      "metadata": {
        "colab": {
          "base_uri": "https://localhost:8080/",
          "height": 628
        },
        "id": "hnZOn_PrsR4u",
        "outputId": "77fc385f-5fcb-4ada-b25b-20fba31bcef3"
      },
      "outputs": [
        {
          "data": {
            "text/plain": [
              "<matplotlib.legend.Legend at 0x7f0200ae0c10>"
            ]
          },
          "execution_count": 43,
          "metadata": {},
          "output_type": "execute_result"
        },
        {
          "data": {
            "image/png": "[encoded data removed]",
            "text/plain": [
              "<Figure size 1440x720 with 2 Axes>"
            ]
          },
          "metadata": {},
          "output_type": "display_data"
        }
      ],
      "source": [
        "figura, (ax1, ax2) = plt.subplots(nrows=1, ncols=2, figsize=(20,10))\n",
        "\n",
        "n_epochs = len(acc)\n",
        "\n",
        "ax1.plot(range(n_epochs), acc, label='Training Recall')\n",
        "ax1.plot(range(n_epochs), test_acc, label='Val Recall')\n",
        "ax1.set_title('Recall')\n",
        "ax1.legend()\n",
        "\n",
        "ax2.plot(range(n_epochs), loss, label='Training loss')\n",
        "ax2.plot(range(n_epochs), test_loss, label='Val loss')\n",
        "ax2.set_title('Loss')\n",
        "ax2.legend()"
      ]
    },
    {
      "cell_type": "code",
      "execution_count": null,
      "metadata": {
        "id": "C1mrhoHogVb9"
      },
      "outputs": [],
      "source": [
        "from sklearn.metrics import confusion_matrix\n",
        "from mlxtend.plotting import plot_confusion_matrix"
      ]
    },
    {
      "cell_type": "code",
      "execution_count": null,
      "metadata": {
        "colab": {
          "base_uri": "https://localhost:8080/"
        },
        "id": "NdZBUNdzsdeX",
        "outputId": "778cb6db-4e14-4b0a-e9ed-7e98d079136e"
      },
      "outputs": [
        {
          "name": "stdout",
          "output_type": "stream",
          "text": [
            "7232/7232 [==============================] - 11s 1ms/step\n"
          ]
        }
      ],
      "source": [
        "y_pred = model.predict(X_test)\n",
        "y_pred = np.round(y_pred)"
      ]
    },
    {
      "cell_type": "code",
      "execution_count": null,
      "metadata": {
        "colab": {
          "base_uri": "https://localhost:8080/",
          "height": 426
        },
        "id": "fOeMBYg3g7tm",
        "outputId": "645faed6-97c6-45d3-f26b-df57633d5da5"
      },
      "outputs": [
        {
          "data": {
            "image/png": "[encoded data removed]",
            "text/plain": [
              "<Figure size 432x432 with 1 Axes>"
            ]
          },
          "metadata": {},
          "output_type": "display_data"
        }
      ],
      "source": [
        "fig, ax = plot_confusion_matrix(conf_mat=confusion_matrix(y_test,y_pred), figsize=(6,6),cmap = cmap)\n",
        "plt.title('Matriz de confusión')\n",
        "plt.show()"
      ]
    },
    {
      "cell_type": "code",
      "execution_count": null,
      "metadata": {
        "colab": {
          "base_uri": "https://localhost:8080/"
        },
        "id": "ErMO0hGuW_s6",
        "outputId": "2c97d440-969c-46ad-d742-3616172c4e6d"
      },
      "outputs": [
        {
          "name": "stdout",
          "output_type": "stream",
          "text": [
            "7232/7232 [==============================] - 19s 3ms/step - loss: 0.6762 - recall: 0.5562\n"
          ]
        },
        {
          "data": {
            "text/plain": [
              "[0.6762299537658691, 0.556197464466095]"
            ]
          },
          "execution_count": 47,
          "metadata": {},
          "output_type": "execute_result"
        }
      ],
      "source": [
        "model.evaluate(X_test, y_test)"
      ]
    },
    {
      "cell_type": "code",
      "execution_count": null,
      "metadata": {
        "id": "O34jLozps0mU"
      },
      "outputs": [],
      "source": [
        "from tensorflow import keras\n",
        "best_model = keras.models.load_model(path_base + '/models/' + 'best_model.hdf5')"
      ]
    },
    {
      "cell_type": "code",
      "execution_count": null,
      "metadata": {
        "colab": {
          "base_uri": "https://localhost:8080/"
        },
        "id": "OBAuYAH8s7QF",
        "outputId": "9a80d32c-8b55-4c60-fc6b-57b757dc7e98"
      },
      "outputs": [
        {
          "name": "stdout",
          "output_type": "stream",
          "text": [
            "7232/7232 [==============================] - 10s 1ms/step\n"
          ]
        }
      ],
      "source": [
        "y_pred = best_model.predict(X_test)\n",
        "y_pred = np.round(y_pred)"
      ]
    },
    {
      "cell_type": "code",
      "execution_count": null,
      "metadata": {
        "colab": {
          "base_uri": "https://localhost:8080/",
          "height": 426
        },
        "id": "brjz8gS6tDpk",
        "outputId": "22b82112-25ab-4efd-9be7-9456827bffd2"
      },
      "outputs": [
        {
          "data": {
            "image/png": "[encoded data removed]",
            "text/plain": [
              "<Figure size 432x432 with 1 Axes>"
            ]
          },
          "metadata": {},
          "output_type": "display_data"
        }
      ],
      "source": [
        "fig, ax = plot_confusion_matrix(conf_mat=confusion_matrix(y_test,y_pred), figsize=(6,6),cmap = cmap)\n",
        "plt.title('Matriz de confusión')\n",
        "plt.show()"
      ]
    },
    {
      "cell_type": "code",
      "execution_count": null,
      "metadata": {
        "colab": {
          "base_uri": "https://localhost:8080/"
        },
        "id": "WyxELfshtLix",
        "outputId": "3eea37ab-cfe5-47d2-c928-b3885e652c2e"
      },
      "outputs": [
        {
          "name": "stdout",
          "output_type": "stream",
          "text": [
            "7232/7232 [==============================] - 20s 3ms/step - loss: 0.6462 - recall: 0.1142\n"
          ]
        },
        {
          "data": {
            "text/plain": [
              "[0.6462165713310242, 0.11423319578170776]"
            ]
          },
          "execution_count": 51,
          "metadata": {},
          "output_type": "execute_result"
        }
      ],
      "source": [
        "best_model.evaluate(X_test, y_test)"
      ]
    },
    {
      "cell_type": "markdown",
      "metadata": {
        "id": "Uc9XGckjzB7E"
      },
      "source": [
        "# Entrenamiento de Redes Neuronales con distintos Optimizadores"
      ]
    },
    {
      "cell_type": "markdown",
      "metadata": {
        "id": "Ek3BwZY1zB7G"
      },
      "source": [
        "### Confguración de las Redes Neuronales"
      ]
    },
    {
      "cell_type": "code",
      "execution_count": null,
      "metadata": {
        "id": "1NjPg4AtzB7G"
      },
      "outputs": [],
      "source": [
        "from tensorflow.keras.callbacks import EarlyStopping , ModelCheckpoint\n",
        "from tensorflow.keras.losses import BinaryCrossentropy\n",
        "from tensorflow.keras.optimizers.schedules import ExponentialDecay\n",
        "from tensorflow.keras.optimizers import Adam, RMSprop, Adadelta,Adagrad\n",
        "from tensorflow.keras.metrics import Precision, Recall, AUC"
      ]
    },
    {
      "cell_type": "code",
      "execution_count": null,
      "metadata": {
        "id": "tiuWFT7kzB7G"
      },
      "outputs": [],
      "source": [
        "# CALLBACKS\n",
        "callback_es_1 = EarlyStopping(monitor='val_loss', patience=30)\n",
        "callback_mc_1 = ModelCheckpoint(path_base + '/models/' + 'best_model_1.hdf5', save_best_only=True, monitor='val_loss', mode='min')\n",
        "\n",
        "callback_es_2 = EarlyStopping(monitor='val_loss', patience=30)\n",
        "callback_mc_2 = ModelCheckpoint(path_base + '/models/' + 'best_model_2.hdf5', save_best_only=True, monitor='val_loss', mode='min')\n",
        "\n",
        "callback_es_3 = EarlyStopping(monitor='val_loss', patience=30)\n",
        "callback_mc_3 = ModelCheckpoint(path_base + '/models/' + 'best_model_3.hdf5', save_best_only=True, monitor='val_loss', mode='min')\n",
        "\n",
        "# LOSSES\n",
        "loss =  BinaryCrossentropy()\n",
        "\n",
        "# SCHEDULES\n",
        "lr_schedule_ED = ExponentialDecay(initial_learning_rate=1e-2,decay_steps=10,decay_rate=0.95)\n",
        "\n",
        "# OPTIMIZERS\n",
        "opt1 = Adam(learning_rate=1e-5)\n",
        "opt2 = RMSprop(learning_rate=1e-5)\n",
        "opt3 = Adagrad(learning_rate=1e-3)\n",
        "\n",
        "# METRICS\n",
        "#metric = Precision()\n",
        "#metric = Recall()\n",
        "metric = AUC()"
      ]
    },
    {
      "cell_type": "code",
      "execution_count": null,
      "metadata": {
        "id": "DVDQCj6szB7H"
      },
      "outputs": [],
      "source": [
        "import tensorflow as tf\n",
        "from tensorflow import keras\n",
        "from keras.models import Sequential\n",
        "from keras.layers import Dense"
      ]
    },
    {
      "cell_type": "code",
      "execution_count": null,
      "metadata": {
        "colab": {
          "base_uri": "https://localhost:8080/"
        },
        "id": "miT_zsPRzB7H",
        "outputId": "84ec2f05-5930-439e-dc3b-efc7dbf43076"
      },
      "outputs": [
        {
          "output_type": "stream",
          "name": "stdout",
          "text": [
            "Model: \"sequential\"\n",
            "_________________________________________________________________\n",
            " Layer (type)                Output Shape              Param #   \n",
            "=================================================================\n",
            " dense (Dense)               (None, 100)               1800      \n",
            "                                                                 \n",
            " dense_1 (Dense)             (None, 100)               10100     \n",
            "                                                                 \n",
            " dense_2 (Dense)             (None, 80)                8080      \n",
            "                                                                 \n",
            " dense_3 (Dense)             (None, 80)                6480      \n",
            "                                                                 \n",
            " dense_4 (Dense)             (None, 50)                4050      \n",
            "                                                                 \n",
            " dense_5 (Dense)             (None, 50)                2550      \n",
            "                                                                 \n",
            " dense_6 (Dense)             (None, 1)                 51        \n",
            "                                                                 \n",
            "=================================================================\n",
            "Total params: 33,111\n",
            "Trainable params: 33,111\n",
            "Non-trainable params: 0\n",
            "_________________________________________________________________\n"
          ]
        }
      ],
      "source": [
        "model_1 = Sequential()\n",
        "model_1.add(Dense(100, input_dim=17,activation='relu'))\n",
        "model_1.add(Dense(100,activation='relu'))\n",
        "model_1.add(Dense(80,activation='relu'))\n",
        "model_1.add(Dense(80,activation='relu'))\n",
        "model_1.add(Dense(50,activation='relu'))\n",
        "model_1.add(Dense(50,activation='relu'))\n",
        "model_1.add(Dense(1,activation='sigmoid'))\n",
        "\n",
        "model_1.compile(loss=loss, optimizer=opt1, metrics=[metric])\n",
        "model_1.summary()"
      ]
    },
    {
      "cell_type": "code",
      "execution_count": null,
      "metadata": {
        "colab": {
          "base_uri": "https://localhost:8080/"
        },
        "id": "Mjspsgw70bUG",
        "outputId": "b93f48de-2453-459d-9568-2edac9f8d8a8"
      },
      "outputs": [
        {
          "output_type": "stream",
          "name": "stdout",
          "text": [
            "Model: \"sequential_1\"\n",
            "_________________________________________________________________\n",
            " Layer (type)                Output Shape              Param #   \n",
            "=================================================================\n",
            " dense_7 (Dense)             (None, 100)               1800      \n",
            "                                                                 \n",
            " dense_8 (Dense)             (None, 100)               10100     \n",
            "                                                                 \n",
            " dense_9 (Dense)             (None, 80)                8080      \n",
            "                                                                 \n",
            " dense_10 (Dense)            (None, 80)                6480      \n",
            "                                                                 \n",
            " dense_11 (Dense)            (None, 50)                4050      \n",
            "                                                                 \n",
            " dense_12 (Dense)            (None, 50)                2550      \n",
            "                                                                 \n",
            " dense_13 (Dense)            (None, 1)                 51        \n",
            "                                                                 \n",
            "=================================================================\n",
            "Total params: 33,111\n",
            "Trainable params: 33,111\n",
            "Non-trainable params: 0\n",
            "_________________________________________________________________\n"
          ]
        }
      ],
      "source": [
        "model_2 = Sequential()\n",
        "model_2.add(Dense(100, input_dim=17,activation='relu'))\n",
        "model_2.add(Dense(100,activation='relu'))\n",
        "model_2.add(Dense(80,activation='relu'))\n",
        "model_2.add(Dense(80,activation='relu'))\n",
        "model_2.add(Dense(50,activation='relu'))\n",
        "model_2.add(Dense(50,activation='relu'))\n",
        "model_2.add(Dense(1,activation='sigmoid'))\n",
        "\n",
        "model_2.compile(loss=loss, optimizer=opt2, metrics=[metric])\n",
        "model_2.summary()"
      ]
    },
    {
      "cell_type": "code",
      "execution_count": null,
      "metadata": {
        "colab": {
          "base_uri": "https://localhost:8080/"
        },
        "id": "wg-EV97f0bK5",
        "outputId": "e8709860-fe70-48f8-f3bd-2c586fd2a5d0"
      },
      "outputs": [
        {
          "output_type": "stream",
          "name": "stdout",
          "text": [
            "Model: \"sequential_2\"\n",
            "_________________________________________________________________\n",
            " Layer (type)                Output Shape              Param #   \n",
            "=================================================================\n",
            " dense_14 (Dense)            (None, 100)               1800      \n",
            "                                                                 \n",
            " dense_15 (Dense)            (None, 100)               10100     \n",
            "                                                                 \n",
            " dense_16 (Dense)            (None, 80)                8080      \n",
            "                                                                 \n",
            " dense_17 (Dense)            (None, 80)                6480      \n",
            "                                                                 \n",
            " dense_18 (Dense)            (None, 50)                4050      \n",
            "                                                                 \n",
            " dense_19 (Dense)            (None, 50)                2550      \n",
            "                                                                 \n",
            " dense_20 (Dense)            (None, 1)                 51        \n",
            "                                                                 \n",
            "=================================================================\n",
            "Total params: 33,111\n",
            "Trainable params: 33,111\n",
            "Non-trainable params: 0\n",
            "_________________________________________________________________\n"
          ]
        }
      ],
      "source": [
        "model_3 = Sequential()\n",
        "model_3.add(Dense(100, input_dim=17,activation='relu'))\n",
        "model_3.add(Dense(100,activation='relu'))\n",
        "model_3.add(Dense(80,activation='relu'))\n",
        "model_3.add(Dense(80,activation='relu'))\n",
        "model_3.add(Dense(50,activation='relu'))\n",
        "model_3.add(Dense(50,activation='relu'))\n",
        "model_3.add(Dense(1,activation='sigmoid'))\n",
        "\n",
        "model_3.compile(loss=loss, optimizer=opt3, metrics=[metric])\n",
        "model_3.summary()"
      ]
    },
    {
      "cell_type": "markdown",
      "metadata": {
        "id": "xZOCWA5PzB7H"
      },
      "source": [
        "### Entrenamiento"
      ]
    },
    {
      "cell_type": "markdown",
      "metadata": {
        "id": "7vJJ6LH10uGv"
      },
      "source": [
        "#### Optimizador 1"
      ]
    },
    {
      "cell_type": "code",
      "execution_count": null,
      "metadata": {
        "colab": {
          "base_uri": "https://localhost:8080/"
        },
        "id": "hAdv_KgfzB7H",
        "outputId": "2b123504-b411-4a99-c789-68c661799dce"
      },
      "outputs": [
        {
          "output_type": "stream",
          "name": "stdout",
          "text": [
            "Epoch 1/100\n",
            "143/143 [==============================] - 7s 28ms/step - loss: 0.6946 - auc: 0.5195 - val_loss: 0.7357 - val_auc: 0.5538\n",
            "Epoch 2/100\n",
            "143/143 [==============================] - 3s 23ms/step - loss: 0.6901 - auc: 0.5720 - val_loss: 0.7166 - val_auc: 0.5970\n",
            "Epoch 3/100\n",
            "143/143 [==============================] - 3s 22ms/step - loss: 0.6868 - auc: 0.6087 - val_loss: 0.7087 - val_auc: 0.6242\n",
            "Epoch 4/100\n",
            "143/143 [==============================] - 3s 23ms/step - loss: 0.6834 - auc: 0.6305 - val_loss: 0.7016 - val_auc: 0.6396\n",
            "Epoch 5/100\n",
            "143/143 [==============================] - 3s 23ms/step - loss: 0.6796 - auc: 0.6445 - val_loss: 0.6974 - val_auc: 0.6501\n",
            "Epoch 6/100\n",
            "143/143 [==============================] - 3s 23ms/step - loss: 0.6754 - auc: 0.6533 - val_loss: 0.6936 - val_auc: 0.6570\n",
            "Epoch 7/100\n",
            "143/143 [==============================] - 3s 23ms/step - loss: 0.6708 - auc: 0.6599 - val_loss: 0.6885 - val_auc: 0.6619\n",
            "Epoch 8/100\n",
            "143/143 [==============================] - 3s 23ms/step - loss: 0.6661 - auc: 0.6639 - val_loss: 0.6793 - val_auc: 0.6655\n",
            "Epoch 9/100\n",
            "143/143 [==============================] - 3s 21ms/step - loss: 0.6615 - auc: 0.6675 - val_loss: 0.6736 - val_auc: 0.6683\n",
            "Epoch 10/100\n",
            "143/143 [==============================] - 3s 21ms/step - loss: 0.6573 - auc: 0.6702 - val_loss: 0.6660 - val_auc: 0.6712\n",
            "Epoch 11/100\n",
            "143/143 [==============================] - 3s 21ms/step - loss: 0.6536 - auc: 0.6730 - val_loss: 0.6625 - val_auc: 0.6735\n",
            "Epoch 12/100\n",
            "143/143 [==============================] - 6s 43ms/step - loss: 0.6506 - auc: 0.6754 - val_loss: 0.6533 - val_auc: 0.6754\n",
            "Epoch 13/100\n",
            "143/143 [==============================] - 6s 40ms/step - loss: 0.6482 - auc: 0.6774 - val_loss: 0.6502 - val_auc: 0.6775\n",
            "Epoch 14/100\n",
            "143/143 [==============================] - 6s 43ms/step - loss: 0.6461 - auc: 0.6795 - val_loss: 0.6476 - val_auc: 0.6793\n",
            "Epoch 15/100\n",
            "143/143 [==============================] - 6s 43ms/step - loss: 0.6443 - auc: 0.6813 - val_loss: 0.6412 - val_auc: 0.6809\n",
            "Epoch 16/100\n",
            "143/143 [==============================] - 3s 23ms/step - loss: 0.6426 - auc: 0.6833 - val_loss: 0.6438 - val_auc: 0.6824\n",
            "Epoch 17/100\n",
            "143/143 [==============================] - 4s 26ms/step - loss: 0.6411 - auc: 0.6849 - val_loss: 0.6395 - val_auc: 0.6838\n",
            "Epoch 18/100\n",
            "143/143 [==============================] - 3s 22ms/step - loss: 0.6397 - auc: 0.6863 - val_loss: 0.6396 - val_auc: 0.6850\n",
            "Epoch 19/100\n",
            "143/143 [==============================] - 4s 26ms/step - loss: 0.6385 - auc: 0.6877 - val_loss: 0.6393 - val_auc: 0.6861\n",
            "Epoch 20/100\n",
            "143/143 [==============================] - 6s 43ms/step - loss: 0.6372 - auc: 0.6892 - val_loss: 0.6406 - val_auc: 0.6870\n",
            "Epoch 21/100\n",
            "143/143 [==============================] - 3s 25ms/step - loss: 0.6361 - auc: 0.6904 - val_loss: 0.6360 - val_auc: 0.6881\n",
            "Epoch 22/100\n",
            "143/143 [==============================] - 3s 21ms/step - loss: 0.6349 - auc: 0.6917 - val_loss: 0.6367 - val_auc: 0.6891\n",
            "Epoch 23/100\n",
            "143/143 [==============================] - 3s 21ms/step - loss: 0.6338 - auc: 0.6929 - val_loss: 0.6246 - val_auc: 0.6898\n",
            "Epoch 24/100\n",
            "143/143 [==============================] - 3s 20ms/step - loss: 0.6329 - auc: 0.6940 - val_loss: 0.6406 - val_auc: 0.6906\n",
            "Epoch 25/100\n",
            "143/143 [==============================] - 3s 22ms/step - loss: 0.6319 - auc: 0.6950 - val_loss: 0.6288 - val_auc: 0.6914\n",
            "Epoch 26/100\n",
            "143/143 [==============================] - 3s 22ms/step - loss: 0.6310 - auc: 0.6961 - val_loss: 0.6402 - val_auc: 0.6920\n",
            "Epoch 27/100\n",
            "143/143 [==============================] - 3s 20ms/step - loss: 0.6302 - auc: 0.6969 - val_loss: 0.6360 - val_auc: 0.6925\n",
            "Epoch 28/100\n",
            "143/143 [==============================] - 3s 21ms/step - loss: 0.6294 - auc: 0.6978 - val_loss: 0.6295 - val_auc: 0.6932\n",
            "Epoch 29/100\n",
            "143/143 [==============================] - 3s 21ms/step - loss: 0.6287 - auc: 0.6986 - val_loss: 0.6333 - val_auc: 0.6937\n",
            "Epoch 30/100\n",
            "143/143 [==============================] - 3s 21ms/step - loss: 0.6279 - auc: 0.6995 - val_loss: 0.6412 - val_auc: 0.6941\n",
            "Epoch 31/100\n",
            "143/143 [==============================] - 3s 22ms/step - loss: 0.6273 - auc: 0.7000 - val_loss: 0.6363 - val_auc: 0.6946\n",
            "Epoch 32/100\n",
            "143/143 [==============================] - 6s 41ms/step - loss: 0.6266 - auc: 0.7009 - val_loss: 0.6363 - val_auc: 0.6950\n",
            "Epoch 33/100\n",
            "143/143 [==============================] - 3s 24ms/step - loss: 0.6260 - auc: 0.7015 - val_loss: 0.6235 - val_auc: 0.6952\n",
            "Epoch 34/100\n",
            "143/143 [==============================] - 4s 31ms/step - loss: 0.6254 - auc: 0.7021 - val_loss: 0.6317 - val_auc: 0.6958\n",
            "Epoch 35/100\n",
            "143/143 [==============================] - 4s 30ms/step - loss: 0.6248 - auc: 0.7028 - val_loss: 0.6270 - val_auc: 0.6960\n",
            "Epoch 36/100\n",
            "143/143 [==============================] - 4s 25ms/step - loss: 0.6242 - auc: 0.7035 - val_loss: 0.6429 - val_auc: 0.6963\n",
            "Epoch 37/100\n",
            "143/143 [==============================] - 3s 21ms/step - loss: 0.6238 - auc: 0.7037 - val_loss: 0.6258 - val_auc: 0.6967\n",
            "Epoch 38/100\n",
            "143/143 [==============================] - 3s 24ms/step - loss: 0.6232 - auc: 0.7043 - val_loss: 0.6230 - val_auc: 0.6969\n",
            "Epoch 39/100\n",
            "143/143 [==============================] - 3s 21ms/step - loss: 0.6228 - auc: 0.7048 - val_loss: 0.6259 - val_auc: 0.6971\n",
            "Epoch 40/100\n",
            "143/143 [==============================] - 3s 22ms/step - loss: 0.6223 - auc: 0.7053 - val_loss: 0.6356 - val_auc: 0.6975\n",
            "Epoch 41/100\n",
            "143/143 [==============================] - 3s 23ms/step - loss: 0.6219 - auc: 0.7058 - val_loss: 0.6467 - val_auc: 0.6977\n",
            "Epoch 42/100\n",
            "143/143 [==============================] - 3s 21ms/step - loss: 0.6215 - auc: 0.7060 - val_loss: 0.6367 - val_auc: 0.6980\n",
            "Epoch 43/100\n",
            "143/143 [==============================] - 3s 23ms/step - loss: 0.6210 - auc: 0.7067 - val_loss: 0.6252 - val_auc: 0.6982\n",
            "Epoch 44/100\n",
            "143/143 [==============================] - 3s 20ms/step - loss: 0.6206 - auc: 0.7070 - val_loss: 0.6374 - val_auc: 0.6985\n",
            "Epoch 45/100\n",
            "143/143 [==============================] - 3s 20ms/step - loss: 0.6202 - auc: 0.7075 - val_loss: 0.6402 - val_auc: 0.6986\n",
            "Epoch 46/100\n",
            "143/143 [==============================] - 3s 22ms/step - loss: 0.6198 - auc: 0.7079 - val_loss: 0.6321 - val_auc: 0.6989\n",
            "Epoch 47/100\n",
            "143/143 [==============================] - 3s 21ms/step - loss: 0.6195 - auc: 0.7082 - val_loss: 0.6379 - val_auc: 0.6991\n",
            "Epoch 48/100\n",
            "143/143 [==============================] - 3s 22ms/step - loss: 0.6191 - auc: 0.7086 - val_loss: 0.6298 - val_auc: 0.6992\n",
            "Epoch 49/100\n",
            "143/143 [==============================] - 3s 21ms/step - loss: 0.6188 - auc: 0.7089 - val_loss: 0.6372 - val_auc: 0.6995\n",
            "Epoch 50/100\n",
            "143/143 [==============================] - 3s 22ms/step - loss: 0.6184 - auc: 0.7093 - val_loss: 0.6375 - val_auc: 0.6995\n",
            "Epoch 51/100\n",
            "143/143 [==============================] - 3s 23ms/step - loss: 0.6181 - auc: 0.7096 - val_loss: 0.6212 - val_auc: 0.6997\n",
            "Epoch 52/100\n",
            "143/143 [==============================] - 3s 21ms/step - loss: 0.6178 - auc: 0.7100 - val_loss: 0.6267 - val_auc: 0.6999\n",
            "Epoch 53/100\n",
            "143/143 [==============================] - 3s 21ms/step - loss: 0.6174 - auc: 0.7103 - val_loss: 0.6210 - val_auc: 0.7001\n",
            "Epoch 54/100\n",
            "143/143 [==============================] - 3s 21ms/step - loss: 0.6172 - auc: 0.7106 - val_loss: 0.6279 - val_auc: 0.7002\n",
            "Epoch 55/100\n",
            "143/143 [==============================] - 3s 21ms/step - loss: 0.6169 - auc: 0.7110 - val_loss: 0.6319 - val_auc: 0.7003\n",
            "Epoch 56/100\n",
            "143/143 [==============================] - 3s 23ms/step - loss: 0.6166 - auc: 0.7113 - val_loss: 0.6237 - val_auc: 0.7005\n",
            "Epoch 57/100\n",
            "143/143 [==============================] - 3s 21ms/step - loss: 0.6163 - auc: 0.7115 - val_loss: 0.6329 - val_auc: 0.7007\n",
            "Epoch 58/100\n",
            "143/143 [==============================] - 3s 21ms/step - loss: 0.6161 - auc: 0.7119 - val_loss: 0.6325 - val_auc: 0.7008\n",
            "Epoch 59/100\n",
            "143/143 [==============================] - 3s 22ms/step - loss: 0.6157 - auc: 0.7122 - val_loss: 0.6375 - val_auc: 0.7011\n",
            "Epoch 60/100\n",
            "143/143 [==============================] - 3s 20ms/step - loss: 0.6155 - auc: 0.7126 - val_loss: 0.6220 - val_auc: 0.7012\n",
            "Epoch 61/100\n",
            "143/143 [==============================] - 3s 21ms/step - loss: 0.6152 - auc: 0.7129 - val_loss: 0.6301 - val_auc: 0.7012\n",
            "Epoch 62/100\n",
            "143/143 [==============================] - 3s 21ms/step - loss: 0.6149 - auc: 0.7132 - val_loss: 0.6344 - val_auc: 0.7013\n",
            "Epoch 63/100\n",
            "143/143 [==============================] - 3s 21ms/step - loss: 0.6147 - auc: 0.7134 - val_loss: 0.6280 - val_auc: 0.7014\n",
            "Epoch 64/100\n",
            "143/143 [==============================] - 3s 21ms/step - loss: 0.6144 - auc: 0.7138 - val_loss: 0.6354 - val_auc: 0.7016\n",
            "Epoch 65/100\n",
            "143/143 [==============================] - 3s 21ms/step - loss: 0.6141 - auc: 0.7140 - val_loss: 0.6343 - val_auc: 0.7017\n",
            "Epoch 66/100\n",
            "143/143 [==============================] - 3s 21ms/step - loss: 0.6139 - auc: 0.7144 - val_loss: 0.6227 - val_auc: 0.7018\n",
            "Epoch 67/100\n",
            "143/143 [==============================] - 3s 21ms/step - loss: 0.6137 - auc: 0.7146 - val_loss: 0.6276 - val_auc: 0.7018\n",
            "Epoch 68/100\n",
            "143/143 [==============================] - 4s 30ms/step - loss: 0.6134 - auc: 0.7149 - val_loss: 0.6320 - val_auc: 0.7020\n",
            "Epoch 69/100\n",
            "143/143 [==============================] - 5s 34ms/step - loss: 0.6133 - auc: 0.7150 - val_loss: 0.6246 - val_auc: 0.7021\n",
            "Epoch 70/100\n",
            "143/143 [==============================] - 3s 23ms/step - loss: 0.6130 - auc: 0.7153 - val_loss: 0.6239 - val_auc: 0.7020\n",
            "Epoch 71/100\n",
            "143/143 [==============================] - 3s 21ms/step - loss: 0.6128 - auc: 0.7154 - val_loss: 0.6313 - val_auc: 0.7023\n",
            "Epoch 72/100\n",
            "143/143 [==============================] - 3s 21ms/step - loss: 0.6126 - auc: 0.7158 - val_loss: 0.6480 - val_auc: 0.7024\n",
            "Epoch 73/100\n",
            "143/143 [==============================] - 3s 24ms/step - loss: 0.6124 - auc: 0.7160 - val_loss: 0.6195 - val_auc: 0.7024\n",
            "Epoch 74/100\n",
            "143/143 [==============================] - 3s 21ms/step - loss: 0.6122 - auc: 0.7162 - val_loss: 0.6246 - val_auc: 0.7025\n",
            "Epoch 75/100\n",
            "143/143 [==============================] - 3s 21ms/step - loss: 0.6120 - auc: 0.7164 - val_loss: 0.6351 - val_auc: 0.7027\n",
            "Epoch 76/100\n",
            "143/143 [==============================] - 3s 21ms/step - loss: 0.6118 - auc: 0.7168 - val_loss: 0.6259 - val_auc: 0.7028\n",
            "Epoch 77/100\n",
            "143/143 [==============================] - 3s 23ms/step - loss: 0.6116 - auc: 0.7169 - val_loss: 0.6376 - val_auc: 0.7029\n",
            "Epoch 78/100\n",
            "143/143 [==============================] - 3s 21ms/step - loss: 0.6115 - auc: 0.7170 - val_loss: 0.6435 - val_auc: 0.7031\n",
            "Epoch 79/100\n",
            "143/143 [==============================] - 3s 23ms/step - loss: 0.6112 - auc: 0.7174 - val_loss: 0.6437 - val_auc: 0.7032\n",
            "Epoch 80/100\n",
            "143/143 [==============================] - 3s 21ms/step - loss: 0.6110 - auc: 0.7176 - val_loss: 0.6278 - val_auc: 0.7032\n",
            "Epoch 81/100\n",
            "143/143 [==============================] - 3s 23ms/step - loss: 0.6108 - auc: 0.7178 - val_loss: 0.6228 - val_auc: 0.7031\n",
            "Epoch 82/100\n",
            "143/143 [==============================] - 3s 22ms/step - loss: 0.6107 - auc: 0.7178 - val_loss: 0.6285 - val_auc: 0.7032\n",
            "Epoch 83/100\n",
            "143/143 [==============================] - 3s 23ms/step - loss: 0.6105 - auc: 0.7181 - val_loss: 0.6342 - val_auc: 0.7033\n",
            "Epoch 84/100\n",
            "143/143 [==============================] - 3s 21ms/step - loss: 0.6103 - auc: 0.7184 - val_loss: 0.6261 - val_auc: 0.7033\n",
            "Epoch 85/100\n",
            "143/143 [==============================] - 3s 23ms/step - loss: 0.6101 - auc: 0.7186 - val_loss: 0.6326 - val_auc: 0.7034\n",
            "Epoch 86/100\n",
            "143/143 [==============================] - 3s 23ms/step - loss: 0.6099 - auc: 0.7188 - val_loss: 0.6369 - val_auc: 0.7036\n",
            "Epoch 87/100\n",
            "143/143 [==============================] - 3s 23ms/step - loss: 0.6098 - auc: 0.7189 - val_loss: 0.6405 - val_auc: 0.7037\n",
            "Epoch 88/100\n",
            "143/143 [==============================] - 4s 25ms/step - loss: 0.6096 - auc: 0.7193 - val_loss: 0.6169 - val_auc: 0.7036\n",
            "Epoch 89/100\n",
            "143/143 [==============================] - 3s 21ms/step - loss: 0.6095 - auc: 0.7193 - val_loss: 0.6329 - val_auc: 0.7038\n",
            "Epoch 90/100\n",
            "143/143 [==============================] - 3s 21ms/step - loss: 0.6093 - auc: 0.7196 - val_loss: 0.6305 - val_auc: 0.7038\n",
            "Epoch 91/100\n",
            "143/143 [==============================] - 3s 23ms/step - loss: 0.6091 - auc: 0.7197 - val_loss: 0.6255 - val_auc: 0.7038\n",
            "Epoch 92/100\n",
            "143/143 [==============================] - 3s 22ms/step - loss: 0.6090 - auc: 0.7198 - val_loss: 0.6215 - val_auc: 0.7039\n",
            "Epoch 93/100\n",
            "143/143 [==============================] - 3s 23ms/step - loss: 0.6088 - auc: 0.7202 - val_loss: 0.6242 - val_auc: 0.7040\n",
            "Epoch 94/100\n",
            "143/143 [==============================] - 3s 23ms/step - loss: 0.6086 - auc: 0.7203 - val_loss: 0.6215 - val_auc: 0.7040\n",
            "Epoch 95/100\n",
            "143/143 [==============================] - 3s 23ms/step - loss: 0.6085 - auc: 0.7204 - val_loss: 0.6266 - val_auc: 0.7040\n",
            "Epoch 96/100\n",
            "143/143 [==============================] - 3s 23ms/step - loss: 0.6084 - auc: 0.7205 - val_loss: 0.6273 - val_auc: 0.7042\n",
            "Epoch 97/100\n",
            "143/143 [==============================] - 3s 21ms/step - loss: 0.6082 - auc: 0.7207 - val_loss: 0.6411 - val_auc: 0.7044\n",
            "Epoch 98/100\n",
            "143/143 [==============================] - 3s 21ms/step - loss: 0.6080 - auc: 0.7211 - val_loss: 0.6296 - val_auc: 0.7043\n",
            "Epoch 99/100\n",
            "143/143 [==============================] - 3s 22ms/step - loss: 0.6079 - auc: 0.7211 - val_loss: 0.6396 - val_auc: 0.7045\n",
            "Epoch 100/100\n",
            "143/143 [==============================] - 3s 22ms/step - loss: 0.6077 - auc: 0.7214 - val_loss: 0.6422 - val_auc: 0.7047\n"
          ]
        }
      ],
      "source": [
        "max_epochs = 100\n",
        "history_1 = model_1.fit(X_resampled,y_resampled,  epochs=max_epochs, validation_data=(X_val, y_val),batch_size=250, callbacks=[callback_es_1,callback_mc_1],verbose=1)"
      ]
    },
    {
      "cell_type": "markdown",
      "metadata": {
        "id": "dqdk1ot901Fl"
      },
      "source": [
        "#### Optimizador 2"
      ]
    },
    {
      "cell_type": "code",
      "execution_count": null,
      "metadata": {
        "colab": {
          "base_uri": "https://localhost:8080/"
        },
        "id": "GBsaHsSp01Fm",
        "outputId": "2c3caf74-2946-43f3-81d0-c17a81e81e00"
      },
      "outputs": [
        {
          "name": "stdout",
          "output_type": "stream",
          "text": [
            "Epoch 1/100\n",
            "143/143 [==============================] - 6s 33ms/step - loss: 0.6914 - auc: 0.6216 - val_loss: 0.7012 - val_auc: 0.5678\n",
            "Epoch 2/100\n",
            "143/143 [==============================] - 3s 23ms/step - loss: 0.6887 - auc: 0.5908 - val_loss: 0.6973 - val_auc: 0.6064\n",
            "Epoch 3/100\n",
            "143/143 [==============================] - 3s 21ms/step - loss: 0.6859 - auc: 0.6228 - val_loss: 0.6943 - val_auc: 0.6305\n",
            "Epoch 4/100\n",
            "143/143 [==============================] - 3s 23ms/step - loss: 0.6828 - auc: 0.6405 - val_loss: 0.6919 - val_auc: 0.6439\n",
            "Epoch 5/100\n",
            "143/143 [==============================] - 3s 23ms/step - loss: 0.6793 - auc: 0.6515 - val_loss: 0.6893 - val_auc: 0.6533\n",
            "Epoch 6/100\n",
            "143/143 [==============================] - 3s 21ms/step - loss: 0.6755 - auc: 0.6587 - val_loss: 0.6869 - val_auc: 0.6599\n",
            "Epoch 7/100\n",
            "143/143 [==============================] - 3s 23ms/step - loss: 0.6715 - auc: 0.6631 - val_loss: 0.6826 - val_auc: 0.6645\n",
            "Epoch 8/100\n",
            "143/143 [==============================] - 3s 23ms/step - loss: 0.6675 - auc: 0.6655 - val_loss: 0.6786 - val_auc: 0.6675\n",
            "Epoch 9/100\n",
            "143/143 [==============================] - 3s 21ms/step - loss: 0.6637 - auc: 0.6677 - val_loss: 0.6748 - val_auc: 0.6695\n",
            "Epoch 10/100\n",
            "143/143 [==============================] - 3s 21ms/step - loss: 0.6603 - auc: 0.6697 - val_loss: 0.6679 - val_auc: 0.6712\n",
            "Epoch 11/100\n",
            "143/143 [==============================] - 3s 23ms/step - loss: 0.6572 - auc: 0.6711 - val_loss: 0.6656 - val_auc: 0.6727\n",
            "Epoch 12/100\n",
            "143/143 [==============================] - 3s 21ms/step - loss: 0.6544 - auc: 0.6727 - val_loss: 0.6611 - val_auc: 0.6743\n",
            "Epoch 13/100\n",
            "143/143 [==============================] - 3s 22ms/step - loss: 0.6520 - auc: 0.6741 - val_loss: 0.6582 - val_auc: 0.6758\n",
            "Epoch 14/100\n",
            "143/143 [==============================] - 3s 23ms/step - loss: 0.6499 - auc: 0.6756 - val_loss: 0.6562 - val_auc: 0.6774\n",
            "Epoch 15/100\n",
            "143/143 [==============================] - 3s 20ms/step - loss: 0.6480 - auc: 0.6771 - val_loss: 0.6529 - val_auc: 0.6788\n",
            "Epoch 16/100\n",
            "143/143 [==============================] - 3s 21ms/step - loss: 0.6463 - auc: 0.6788 - val_loss: 0.6498 - val_auc: 0.6799\n",
            "Epoch 17/100\n",
            "143/143 [==============================] - 3s 21ms/step - loss: 0.6448 - auc: 0.6799 - val_loss: 0.6528 - val_auc: 0.6814\n",
            "Epoch 18/100\n",
            "143/143 [==============================] - 3s 23ms/step - loss: 0.6434 - auc: 0.6813 - val_loss: 0.6520 - val_auc: 0.6825\n",
            "Epoch 19/100\n",
            "143/143 [==============================] - 3s 23ms/step - loss: 0.6422 - auc: 0.6827 - val_loss: 0.6460 - val_auc: 0.6834\n",
            "Epoch 20/100\n",
            "143/143 [==============================] - 3s 23ms/step - loss: 0.6410 - auc: 0.6838 - val_loss: 0.6445 - val_auc: 0.6845\n",
            "Epoch 21/100\n",
            "143/143 [==============================] - 3s 21ms/step - loss: 0.6400 - auc: 0.6851 - val_loss: 0.6450 - val_auc: 0.6854\n",
            "Epoch 22/100\n",
            "143/143 [==============================] - 3s 23ms/step - loss: 0.6390 - auc: 0.6861 - val_loss: 0.6459 - val_auc: 0.6862\n",
            "Epoch 23/100\n",
            "143/143 [==============================] - 4s 25ms/step - loss: 0.6380 - auc: 0.6872 - val_loss: 0.6418 - val_auc: 0.6871\n",
            "Epoch 24/100\n",
            "143/143 [==============================] - 3s 23ms/step - loss: 0.6370 - auc: 0.6882 - val_loss: 0.6435 - val_auc: 0.6880\n",
            "Epoch 25/100\n",
            "143/143 [==============================] - 3s 24ms/step - loss: 0.6361 - auc: 0.6893 - val_loss: 0.6379 - val_auc: 0.6886\n",
            "Epoch 26/100\n",
            "143/143 [==============================] - 3s 22ms/step - loss: 0.6353 - auc: 0.6903 - val_loss: 0.6345 - val_auc: 0.6893\n",
            "Epoch 27/100\n",
            "143/143 [==============================] - 3s 23ms/step - loss: 0.6345 - auc: 0.6913 - val_loss: 0.6469 - val_auc: 0.6903\n",
            "Epoch 28/100\n",
            "143/143 [==============================] - 3s 23ms/step - loss: 0.6337 - auc: 0.6922 - val_loss: 0.6343 - val_auc: 0.6907\n",
            "Epoch 29/100\n",
            "143/143 [==============================] - 6s 41ms/step - loss: 0.6329 - auc: 0.6930 - val_loss: 0.6447 - val_auc: 0.6916\n",
            "Epoch 30/100\n",
            "143/143 [==============================] - 3s 23ms/step - loss: 0.6322 - auc: 0.6939 - val_loss: 0.6379 - val_auc: 0.6921\n",
            "Epoch 31/100\n",
            "143/143 [==============================] - 3s 23ms/step - loss: 0.6315 - auc: 0.6947 - val_loss: 0.6430 - val_auc: 0.6927\n",
            "Epoch 32/100\n",
            "143/143 [==============================] - 3s 21ms/step - loss: 0.6308 - auc: 0.6953 - val_loss: 0.6406 - val_auc: 0.6932\n",
            "Epoch 33/100\n",
            "143/143 [==============================] - 3s 23ms/step - loss: 0.6302 - auc: 0.6960 - val_loss: 0.6417 - val_auc: 0.6936\n",
            "Epoch 34/100\n",
            "143/143 [==============================] - 4s 26ms/step - loss: 0.6295 - auc: 0.6968 - val_loss: 0.6333 - val_auc: 0.6940\n",
            "Epoch 35/100\n",
            "143/143 [==============================] - 3s 21ms/step - loss: 0.6289 - auc: 0.6974 - val_loss: 0.6374 - val_auc: 0.6945\n",
            "Epoch 36/100\n",
            "143/143 [==============================] - 3s 21ms/step - loss: 0.6283 - auc: 0.6982 - val_loss: 0.6318 - val_auc: 0.6948\n",
            "Epoch 37/100\n",
            "143/143 [==============================] - 3s 21ms/step - loss: 0.6278 - auc: 0.6987 - val_loss: 0.6396 - val_auc: 0.6954\n",
            "Epoch 38/100\n",
            "143/143 [==============================] - 3s 23ms/step - loss: 0.6272 - auc: 0.6993 - val_loss: 0.6347 - val_auc: 0.6956\n",
            "Epoch 39/100\n",
            "143/143 [==============================] - 3s 23ms/step - loss: 0.6267 - auc: 0.6999 - val_loss: 0.6330 - val_auc: 0.6959\n",
            "Epoch 40/100\n",
            "143/143 [==============================] - 3s 23ms/step - loss: 0.6262 - auc: 0.7004 - val_loss: 0.6334 - val_auc: 0.6964\n",
            "Epoch 41/100\n",
            "143/143 [==============================] - 3s 21ms/step - loss: 0.6258 - auc: 0.7009 - val_loss: 0.6368 - val_auc: 0.6968\n",
            "Epoch 42/100\n",
            "143/143 [==============================] - 4s 25ms/step - loss: 0.6253 - auc: 0.7015 - val_loss: 0.6292 - val_auc: 0.6969\n",
            "Epoch 43/100\n",
            "143/143 [==============================] - 3s 23ms/step - loss: 0.6248 - auc: 0.7019 - val_loss: 0.6307 - val_auc: 0.6972\n",
            "Epoch 44/100\n",
            "143/143 [==============================] - 3s 23ms/step - loss: 0.6244 - auc: 0.7024 - val_loss: 0.6259 - val_auc: 0.6974\n",
            "Epoch 45/100\n",
            "143/143 [==============================] - 3s 23ms/step - loss: 0.6241 - auc: 0.7028 - val_loss: 0.6322 - val_auc: 0.6978\n",
            "Epoch 46/100\n",
            "143/143 [==============================] - 3s 23ms/step - loss: 0.6236 - auc: 0.7033 - val_loss: 0.6311 - val_auc: 0.6980\n",
            "Epoch 47/100\n",
            "143/143 [==============================] - 3s 21ms/step - loss: 0.6233 - auc: 0.7037 - val_loss: 0.6321 - val_auc: 0.6983\n",
            "Epoch 48/100\n",
            "143/143 [==============================] - 3s 23ms/step - loss: 0.6229 - auc: 0.7040 - val_loss: 0.6355 - val_auc: 0.6986\n",
            "Epoch 49/100\n",
            "143/143 [==============================] - 3s 21ms/step - loss: 0.6225 - auc: 0.7045 - val_loss: 0.6365 - val_auc: 0.6988\n",
            "Epoch 50/100\n",
            "143/143 [==============================] - 3s 21ms/step - loss: 0.6222 - auc: 0.7049 - val_loss: 0.6350 - val_auc: 0.6990\n",
            "Epoch 51/100\n",
            "143/143 [==============================] - 3s 21ms/step - loss: 0.6218 - auc: 0.7053 - val_loss: 0.6373 - val_auc: 0.6993\n",
            "Epoch 52/100\n",
            "143/143 [==============================] - 3s 23ms/step - loss: 0.6214 - auc: 0.7058 - val_loss: 0.6323 - val_auc: 0.6994\n",
            "Epoch 53/100\n",
            "143/143 [==============================] - 3s 23ms/step - loss: 0.6211 - auc: 0.7061 - val_loss: 0.6447 - val_auc: 0.6998\n",
            "Epoch 54/100\n",
            "143/143 [==============================] - 3s 23ms/step - loss: 0.6208 - auc: 0.7063 - val_loss: 0.6410 - val_auc: 0.6999\n",
            "Epoch 55/100\n",
            "143/143 [==============================] - 3s 21ms/step - loss: 0.6205 - auc: 0.7067 - val_loss: 0.6364 - val_auc: 0.7001\n",
            "Epoch 56/100\n",
            "143/143 [==============================] - 3s 23ms/step - loss: 0.6202 - auc: 0.7070 - val_loss: 0.6343 - val_auc: 0.7002\n",
            "Epoch 57/100\n",
            "143/143 [==============================] - 3s 21ms/step - loss: 0.6199 - auc: 0.7074 - val_loss: 0.6286 - val_auc: 0.7003\n",
            "Epoch 58/100\n",
            "143/143 [==============================] - 3s 21ms/step - loss: 0.6196 - auc: 0.7076 - val_loss: 0.6349 - val_auc: 0.7006\n",
            "Epoch 59/100\n",
            "143/143 [==============================] - 3s 23ms/step - loss: 0.6193 - auc: 0.7081 - val_loss: 0.6301 - val_auc: 0.7006\n",
            "Epoch 60/100\n",
            "143/143 [==============================] - 3s 21ms/step - loss: 0.6191 - auc: 0.7083 - val_loss: 0.6366 - val_auc: 0.7008\n",
            "Epoch 61/100\n",
            "143/143 [==============================] - 3s 21ms/step - loss: 0.6188 - auc: 0.7086 - val_loss: 0.6335 - val_auc: 0.7009\n",
            "Epoch 62/100\n",
            "143/143 [==============================] - 3s 21ms/step - loss: 0.6185 - auc: 0.7089 - val_loss: 0.6337 - val_auc: 0.7011\n",
            "Epoch 63/100\n",
            "143/143 [==============================] - 3s 23ms/step - loss: 0.6183 - auc: 0.7091 - val_loss: 0.6268 - val_auc: 0.7012\n",
            "Epoch 64/100\n",
            "143/143 [==============================] - 3s 23ms/step - loss: 0.6180 - auc: 0.7094 - val_loss: 0.6282 - val_auc: 0.7014\n",
            "Epoch 65/100\n",
            "143/143 [==============================] - 6s 43ms/step - loss: 0.6178 - auc: 0.7097 - val_loss: 0.6388 - val_auc: 0.7016\n",
            "Epoch 66/100\n",
            "143/143 [==============================] - 3s 23ms/step - loss: 0.6176 - auc: 0.7099 - val_loss: 0.6372 - val_auc: 0.7017\n",
            "Epoch 67/100\n",
            "143/143 [==============================] - 3s 21ms/step - loss: 0.6173 - auc: 0.7101 - val_loss: 0.6332 - val_auc: 0.7019\n",
            "Epoch 68/100\n",
            "143/143 [==============================] - 3s 21ms/step - loss: 0.6171 - auc: 0.7105 - val_loss: 0.6316 - val_auc: 0.7019\n",
            "Epoch 69/100\n",
            "143/143 [==============================] - 4s 27ms/step - loss: 0.6169 - auc: 0.7107 - val_loss: 0.6258 - val_auc: 0.7019\n",
            "Epoch 70/100\n",
            "143/143 [==============================] - 3s 23ms/step - loss: 0.6166 - auc: 0.7110 - val_loss: 0.6261 - val_auc: 0.7020\n",
            "Epoch 71/100\n",
            "143/143 [==============================] - 3s 21ms/step - loss: 0.6164 - auc: 0.7112 - val_loss: 0.6279 - val_auc: 0.7023\n",
            "Epoch 72/100\n",
            "143/143 [==============================] - 3s 21ms/step - loss: 0.6162 - auc: 0.7115 - val_loss: 0.6312 - val_auc: 0.7023\n",
            "Epoch 73/100\n",
            "143/143 [==============================] - 3s 23ms/step - loss: 0.6160 - auc: 0.7116 - val_loss: 0.6266 - val_auc: 0.7026\n",
            "Epoch 74/100\n",
            "143/143 [==============================] - 3s 23ms/step - loss: 0.6158 - auc: 0.7119 - val_loss: 0.6318 - val_auc: 0.7026\n",
            "Epoch 75/100\n",
            "143/143 [==============================] - 3s 21ms/step - loss: 0.6156 - auc: 0.7122 - val_loss: 0.6358 - val_auc: 0.7029\n",
            "Epoch 76/100\n",
            "143/143 [==============================] - 4s 28ms/step - loss: 0.6153 - auc: 0.7124 - val_loss: 0.6255 - val_auc: 0.7028\n",
            "Epoch 77/100\n",
            "143/143 [==============================] - 3s 20ms/step - loss: 0.6152 - auc: 0.7125 - val_loss: 0.6340 - val_auc: 0.7030\n",
            "Epoch 78/100\n",
            "143/143 [==============================] - 3s 21ms/step - loss: 0.6150 - auc: 0.7128 - val_loss: 0.6235 - val_auc: 0.7029\n",
            "Epoch 79/100\n",
            "143/143 [==============================] - 3s 23ms/step - loss: 0.6148 - auc: 0.7130 - val_loss: 0.6369 - val_auc: 0.7033\n",
            "Epoch 80/100\n",
            "143/143 [==============================] - 3s 21ms/step - loss: 0.6146 - auc: 0.7132 - val_loss: 0.6278 - val_auc: 0.7032\n",
            "Epoch 81/100\n",
            "143/143 [==============================] - 3s 23ms/step - loss: 0.6144 - auc: 0.7134 - val_loss: 0.6282 - val_auc: 0.7033\n",
            "Epoch 82/100\n",
            "143/143 [==============================] - 3s 21ms/step - loss: 0.6142 - auc: 0.7137 - val_loss: 0.6264 - val_auc: 0.7034\n",
            "Epoch 83/100\n",
            "143/143 [==============================] - 3s 23ms/step - loss: 0.6140 - auc: 0.7138 - val_loss: 0.6258 - val_auc: 0.7035\n",
            "Epoch 84/100\n",
            "143/143 [==============================] - 3s 23ms/step - loss: 0.6138 - auc: 0.7141 - val_loss: 0.6254 - val_auc: 0.7036\n",
            "Epoch 85/100\n",
            "143/143 [==============================] - 4s 26ms/step - loss: 0.6136 - auc: 0.7144 - val_loss: 0.6180 - val_auc: 0.7035\n",
            "Epoch 86/100\n",
            "143/143 [==============================] - 3s 23ms/step - loss: 0.6135 - auc: 0.7145 - val_loss: 0.6300 - val_auc: 0.7037\n",
            "Epoch 87/100\n",
            "143/143 [==============================] - 3s 21ms/step - loss: 0.6133 - auc: 0.7147 - val_loss: 0.6238 - val_auc: 0.7037\n",
            "Epoch 88/100\n",
            "143/143 [==============================] - 3s 21ms/step - loss: 0.6131 - auc: 0.7149 - val_loss: 0.6328 - val_auc: 0.7039\n",
            "Epoch 89/100\n",
            "143/143 [==============================] - 3s 21ms/step - loss: 0.6129 - auc: 0.7151 - val_loss: 0.6221 - val_auc: 0.7039\n",
            "Epoch 90/100\n",
            "143/143 [==============================] - 3s 21ms/step - loss: 0.6128 - auc: 0.7152 - val_loss: 0.6266 - val_auc: 0.7041\n",
            "Epoch 91/100\n",
            "143/143 [==============================] - 3s 21ms/step - loss: 0.6126 - auc: 0.7154 - val_loss: 0.6302 - val_auc: 0.7041\n",
            "Epoch 92/100\n",
            "143/143 [==============================] - 3s 21ms/step - loss: 0.6124 - auc: 0.7156 - val_loss: 0.6296 - val_auc: 0.7042\n",
            "Epoch 93/100\n",
            "143/143 [==============================] - 3s 21ms/step - loss: 0.6123 - auc: 0.7158 - val_loss: 0.6239 - val_auc: 0.7043\n",
            "Epoch 94/100\n",
            "143/143 [==============================] - 3s 21ms/step - loss: 0.6121 - auc: 0.7160 - val_loss: 0.6331 - val_auc: 0.7044\n",
            "Epoch 95/100\n",
            "143/143 [==============================] - 3s 23ms/step - loss: 0.6119 - auc: 0.7162 - val_loss: 0.6266 - val_auc: 0.7045\n",
            "Epoch 96/100\n",
            "143/143 [==============================] - 3s 23ms/step - loss: 0.6118 - auc: 0.7164 - val_loss: 0.6234 - val_auc: 0.7044\n",
            "Epoch 97/100\n",
            "143/143 [==============================] - 3s 21ms/step - loss: 0.6116 - auc: 0.7165 - val_loss: 0.6344 - val_auc: 0.7048\n",
            "Epoch 98/100\n",
            "143/143 [==============================] - 3s 21ms/step - loss: 0.6114 - auc: 0.7167 - val_loss: 0.6249 - val_auc: 0.7047\n",
            "Epoch 99/100\n",
            "143/143 [==============================] - 3s 21ms/step - loss: 0.6113 - auc: 0.7169 - val_loss: 0.6354 - val_auc: 0.7048\n",
            "Epoch 100/100\n",
            "143/143 [==============================] - 4s 27ms/step - loss: 0.6111 - auc: 0.7171 - val_loss: 0.6194 - val_auc: 0.7047\n"
          ]
        }
      ],
      "source": [
        "max_epochs = 100\n",
        "history_2 = model_2.fit(X_resampled,y_resampled,  epochs=max_epochs, validation_data=(X_val, y_val),batch_size=250, callbacks=[callback_es_2,callback_mc_2],verbose=1)"
      ]
    },
    {
      "cell_type": "markdown",
      "metadata": {
        "id": "a09p9l6M04xl"
      },
      "source": [
        "#### Optimizador 3"
      ]
    },
    {
      "cell_type": "code",
      "execution_count": null,
      "metadata": {
        "colab": {
          "base_uri": "https://localhost:8080/"
        },
        "id": "-OI9dQKM04xm",
        "outputId": "e1da8dd6-299a-41fa-9401-941e7cde6a7a"
      },
      "outputs": [
        {
          "name": "stdout",
          "output_type": "stream",
          "text": [
            "Epoch 1/100\n",
            "143/143 [==============================] - 5s 28ms/step - loss: 0.6955 - auc_1: 0.4608 - val_loss: 0.7175 - val_auc_1: 0.4672\n",
            "Epoch 2/100\n",
            "143/143 [==============================] - 3s 22ms/step - loss: 0.6942 - auc_1: 0.4804 - val_loss: 0.7097 - val_auc_1: 0.4876\n",
            "Epoch 3/100\n",
            "143/143 [==============================] - 3s 22ms/step - loss: 0.6933 - auc_1: 0.5010 - val_loss: 0.7041 - val_auc_1: 0.5091\n",
            "Epoch 4/100\n",
            "143/143 [==============================] - 3s 20ms/step - loss: 0.6926 - auc_1: 0.5232 - val_loss: 0.6997 - val_auc_1: 0.5301\n",
            "Epoch 5/100\n",
            "143/143 [==============================] - 3s 22ms/step - loss: 0.6920 - auc_1: 0.5423 - val_loss: 0.6962 - val_auc_1: 0.5466\n",
            "Epoch 6/100\n",
            "143/143 [==============================] - 3s 22ms/step - loss: 0.6914 - auc_1: 0.5607 - val_loss: 0.6936 - val_auc_1: 0.5652\n",
            "Epoch 7/100\n",
            "143/143 [==============================] - 3s 22ms/step - loss: 0.6909 - auc_1: 0.5759 - val_loss: 0.6914 - val_auc_1: 0.5793\n",
            "Epoch 8/100\n",
            "143/143 [==============================] - 3s 20ms/step - loss: 0.6904 - auc_1: 0.5868 - val_loss: 0.6895 - val_auc_1: 0.5891\n",
            "Epoch 9/100\n",
            "143/143 [==============================] - 3s 22ms/step - loss: 0.6899 - auc_1: 0.5963 - val_loss: 0.6880 - val_auc_1: 0.5980\n",
            "Epoch 10/100\n",
            "143/143 [==============================] - 3s 20ms/step - loss: 0.6893 - auc_1: 0.6038 - val_loss: 0.6868 - val_auc_1: 0.6038\n",
            "Epoch 11/100\n",
            "143/143 [==============================] - 3s 22ms/step - loss: 0.6888 - auc_1: 0.6098 - val_loss: 0.6857 - val_auc_1: 0.6102\n",
            "Epoch 12/100\n",
            "143/143 [==============================] - 3s 22ms/step - loss: 0.6882 - auc_1: 0.6169 - val_loss: 0.6849 - val_auc_1: 0.6150\n",
            "Epoch 13/100\n",
            "143/143 [==============================] - 3s 23ms/step - loss: 0.6876 - auc_1: 0.6211 - val_loss: 0.6840 - val_auc_1: 0.6193\n",
            "Epoch 14/100\n",
            "143/143 [==============================] - 3s 23ms/step - loss: 0.6870 - auc_1: 0.6259 - val_loss: 0.6834 - val_auc_1: 0.6245\n",
            "Epoch 15/100\n",
            "143/143 [==============================] - 3s 20ms/step - loss: 0.6863 - auc_1: 0.6302 - val_loss: 0.6826 - val_auc_1: 0.6283\n",
            "Epoch 16/100\n",
            "143/143 [==============================] - 3s 23ms/step - loss: 0.6856 - auc_1: 0.6343 - val_loss: 0.6818 - val_auc_1: 0.6316\n",
            "Epoch 17/100\n",
            "143/143 [==============================] - 3s 20ms/step - loss: 0.6848 - auc_1: 0.6376 - val_loss: 0.6811 - val_auc_1: 0.6350\n",
            "Epoch 18/100\n",
            "143/143 [==============================] - 3s 23ms/step - loss: 0.6840 - auc_1: 0.6410 - val_loss: 0.6803 - val_auc_1: 0.6379\n",
            "Epoch 19/100\n",
            "143/143 [==============================] - 3s 20ms/step - loss: 0.6832 - auc_1: 0.6435 - val_loss: 0.6796 - val_auc_1: 0.6401\n",
            "Epoch 20/100\n",
            "143/143 [==============================] - 3s 20ms/step - loss: 0.6823 - auc_1: 0.6467 - val_loss: 0.6788 - val_auc_1: 0.6437\n",
            "Epoch 21/100\n",
            "143/143 [==============================] - 3s 20ms/step - loss: 0.6813 - auc_1: 0.6485 - val_loss: 0.6779 - val_auc_1: 0.6450\n",
            "Epoch 22/100\n",
            "143/143 [==============================] - 3s 20ms/step - loss: 0.6803 - auc_1: 0.6505 - val_loss: 0.6773 - val_auc_1: 0.6468\n",
            "Epoch 23/100\n",
            "143/143 [==============================] - 3s 20ms/step - loss: 0.6793 - auc_1: 0.6523 - val_loss: 0.6760 - val_auc_1: 0.6488\n",
            "Epoch 24/100\n",
            "143/143 [==============================] - 3s 22ms/step - loss: 0.6782 - auc_1: 0.6542 - val_loss: 0.6754 - val_auc_1: 0.6510\n",
            "Epoch 25/100\n",
            "143/143 [==============================] - 3s 22ms/step - loss: 0.6770 - auc_1: 0.6556 - val_loss: 0.6745 - val_auc_1: 0.6524\n",
            "Epoch 26/100\n",
            "143/143 [==============================] - 3s 20ms/step - loss: 0.6757 - auc_1: 0.6573 - val_loss: 0.6736 - val_auc_1: 0.6545\n",
            "Epoch 27/100\n",
            "143/143 [==============================] - 3s 19ms/step - loss: 0.6744 - auc_1: 0.6588 - val_loss: 0.6721 - val_auc_1: 0.6560\n",
            "Epoch 28/100\n",
            "143/143 [==============================] - 3s 20ms/step - loss: 0.6730 - auc_1: 0.6605 - val_loss: 0.6704 - val_auc_1: 0.6575\n",
            "Epoch 29/100\n",
            "143/143 [==============================] - 3s 22ms/step - loss: 0.6715 - auc_1: 0.6614 - val_loss: 0.6694 - val_auc_1: 0.6591\n",
            "Epoch 30/100\n",
            "143/143 [==============================] - 3s 20ms/step - loss: 0.6700 - auc_1: 0.6630 - val_loss: 0.6679 - val_auc_1: 0.6608\n",
            "Epoch 31/100\n",
            "143/143 [==============================] - 3s 22ms/step - loss: 0.6684 - auc_1: 0.6641 - val_loss: 0.6668 - val_auc_1: 0.6622\n",
            "Epoch 32/100\n",
            "143/143 [==============================] - 3s 20ms/step - loss: 0.6667 - auc_1: 0.6653 - val_loss: 0.6655 - val_auc_1: 0.6634\n",
            "Epoch 33/100\n",
            "143/143 [==============================] - 3s 20ms/step - loss: 0.6650 - auc_1: 0.6667 - val_loss: 0.6628 - val_auc_1: 0.6650\n",
            "Epoch 34/100\n",
            "143/143 [==============================] - 3s 20ms/step - loss: 0.6633 - auc_1: 0.6679 - val_loss: 0.6618 - val_auc_1: 0.6662\n",
            "Epoch 35/100\n",
            "143/143 [==============================] - 6s 41ms/step - loss: 0.6616 - auc_1: 0.6691 - val_loss: 0.6599 - val_auc_1: 0.6677\n",
            "Epoch 36/100\n",
            "143/143 [==============================] - 3s 20ms/step - loss: 0.6598 - auc_1: 0.6704 - val_loss: 0.6584 - val_auc_1: 0.6689\n",
            "Epoch 37/100\n",
            "143/143 [==============================] - 3s 22ms/step - loss: 0.6581 - auc_1: 0.6713 - val_loss: 0.6571 - val_auc_1: 0.6703\n",
            "Epoch 38/100\n",
            "143/143 [==============================] - 3s 22ms/step - loss: 0.6565 - auc_1: 0.6724 - val_loss: 0.6554 - val_auc_1: 0.6715\n",
            "Epoch 39/100\n",
            "143/143 [==============================] - 3s 21ms/step - loss: 0.6549 - auc_1: 0.6733 - val_loss: 0.6541 - val_auc_1: 0.6724\n",
            "Epoch 40/100\n",
            "143/143 [==============================] - 3s 20ms/step - loss: 0.6533 - auc_1: 0.6742 - val_loss: 0.6516 - val_auc_1: 0.6737\n",
            "Epoch 41/100\n",
            "143/143 [==============================] - 3s 20ms/step - loss: 0.6519 - auc_1: 0.6752 - val_loss: 0.6500 - val_auc_1: 0.6746\n",
            "Epoch 42/100\n",
            "143/143 [==============================] - 3s 22ms/step - loss: 0.6505 - auc_1: 0.6761 - val_loss: 0.6509 - val_auc_1: 0.6755\n",
            "Epoch 43/100\n",
            "143/143 [==============================] - 3s 19ms/step - loss: 0.6492 - auc_1: 0.6769 - val_loss: 0.6524 - val_auc_1: 0.6765\n",
            "Epoch 44/100\n",
            "143/143 [==============================] - 3s 20ms/step - loss: 0.6480 - auc_1: 0.6776 - val_loss: 0.6508 - val_auc_1: 0.6772\n",
            "Epoch 45/100\n",
            "143/143 [==============================] - 4s 28ms/step - loss: 0.6469 - auc_1: 0.6783 - val_loss: 0.6465 - val_auc_1: 0.6782\n",
            "Epoch 46/100\n",
            "143/143 [==============================] - 3s 19ms/step - loss: 0.6459 - auc_1: 0.6790 - val_loss: 0.6453 - val_auc_1: 0.6789\n",
            "Epoch 47/100\n",
            "143/143 [==============================] - 3s 20ms/step - loss: 0.6450 - auc_1: 0.6796 - val_loss: 0.6467 - val_auc_1: 0.6796\n",
            "Epoch 48/100\n",
            "143/143 [==============================] - 3s 22ms/step - loss: 0.6441 - auc_1: 0.6802 - val_loss: 0.6463 - val_auc_1: 0.6802\n",
            "Epoch 49/100\n",
            "143/143 [==============================] - 3s 20ms/step - loss: 0.6433 - auc_1: 0.6808 - val_loss: 0.6471 - val_auc_1: 0.6809\n",
            "Epoch 50/100\n",
            "143/143 [==============================] - 4s 25ms/step - loss: 0.6426 - auc_1: 0.6815 - val_loss: 0.6447 - val_auc_1: 0.6814\n",
            "Epoch 51/100\n",
            "143/143 [==============================] - 3s 19ms/step - loss: 0.6419 - auc_1: 0.6821 - val_loss: 0.6471 - val_auc_1: 0.6820\n",
            "Epoch 52/100\n",
            "143/143 [==============================] - 3s 20ms/step - loss: 0.6412 - auc_1: 0.6826 - val_loss: 0.6438 - val_auc_1: 0.6824\n",
            "Epoch 53/100\n",
            "143/143 [==============================] - 3s 20ms/step - loss: 0.6406 - auc_1: 0.6833 - val_loss: 0.6433 - val_auc_1: 0.6829\n",
            "Epoch 54/100\n",
            "143/143 [==============================] - 3s 19ms/step - loss: 0.6400 - auc_1: 0.6837 - val_loss: 0.6452 - val_auc_1: 0.6835\n",
            "Epoch 55/100\n",
            "143/143 [==============================] - 3s 22ms/step - loss: 0.6394 - auc_1: 0.6843 - val_loss: 0.6463 - val_auc_1: 0.6839\n",
            "Epoch 56/100\n",
            "143/143 [==============================] - 3s 22ms/step - loss: 0.6388 - auc_1: 0.6848 - val_loss: 0.6440 - val_auc_1: 0.6844\n",
            "Epoch 57/100\n",
            "143/143 [==============================] - 3s 19ms/step - loss: 0.6383 - auc_1: 0.6854 - val_loss: 0.6470 - val_auc_1: 0.6848\n",
            "Epoch 58/100\n",
            "143/143 [==============================] - 4s 25ms/step - loss: 0.6378 - auc_1: 0.6858 - val_loss: 0.6416 - val_auc_1: 0.6853\n",
            "Epoch 59/100\n",
            "143/143 [==============================] - 3s 22ms/step - loss: 0.6373 - auc_1: 0.6864 - val_loss: 0.6447 - val_auc_1: 0.6858\n",
            "Epoch 60/100\n",
            "143/143 [==============================] - 3s 20ms/step - loss: 0.6368 - auc_1: 0.6869 - val_loss: 0.6398 - val_auc_1: 0.6860\n",
            "Epoch 61/100\n",
            "143/143 [==============================] - 3s 20ms/step - loss: 0.6363 - auc_1: 0.6873 - val_loss: 0.6395 - val_auc_1: 0.6864\n",
            "Epoch 62/100\n",
            "143/143 [==============================] - 3s 20ms/step - loss: 0.6359 - auc_1: 0.6878 - val_loss: 0.6425 - val_auc_1: 0.6869\n",
            "Epoch 63/100\n",
            "143/143 [==============================] - 3s 22ms/step - loss: 0.6355 - auc_1: 0.6883 - val_loss: 0.6423 - val_auc_1: 0.6872\n",
            "Epoch 64/100\n",
            "143/143 [==============================] - 3s 20ms/step - loss: 0.6350 - auc_1: 0.6888 - val_loss: 0.6437 - val_auc_1: 0.6876\n",
            "Epoch 65/100\n",
            "143/143 [==============================] - 3s 19ms/step - loss: 0.6346 - auc_1: 0.6892 - val_loss: 0.6400 - val_auc_1: 0.6879\n",
            "Epoch 66/100\n",
            "143/143 [==============================] - 4s 28ms/step - loss: 0.6342 - auc_1: 0.6897 - val_loss: 0.6388 - val_auc_1: 0.6883\n",
            "Epoch 67/100\n",
            "143/143 [==============================] - 3s 22ms/step - loss: 0.6338 - auc_1: 0.6901 - val_loss: 0.6385 - val_auc_1: 0.6886\n",
            "Epoch 68/100\n",
            "143/143 [==============================] - 3s 22ms/step - loss: 0.6334 - auc_1: 0.6905 - val_loss: 0.6392 - val_auc_1: 0.6891\n",
            "Epoch 69/100\n",
            "143/143 [==============================] - 3s 20ms/step - loss: 0.6330 - auc_1: 0.6910 - val_loss: 0.6381 - val_auc_1: 0.6894\n",
            "Epoch 70/100\n",
            "143/143 [==============================] - 3s 21ms/step - loss: 0.6327 - auc_1: 0.6915 - val_loss: 0.6378 - val_auc_1: 0.6896\n",
            "Epoch 71/100\n",
            "143/143 [==============================] - 3s 20ms/step - loss: 0.6323 - auc_1: 0.6919 - val_loss: 0.6410 - val_auc_1: 0.6899\n",
            "Epoch 72/100\n",
            "143/143 [==============================] - 4s 26ms/step - loss: 0.6319 - auc_1: 0.6923 - val_loss: 0.6342 - val_auc_1: 0.6903\n",
            "Epoch 73/100\n",
            "143/143 [==============================] - 3s 19ms/step - loss: 0.6316 - auc_1: 0.6927 - val_loss: 0.6394 - val_auc_1: 0.6906\n",
            "Epoch 74/100\n",
            "143/143 [==============================] - 3s 20ms/step - loss: 0.6313 - auc_1: 0.6931 - val_loss: 0.6412 - val_auc_1: 0.6909\n",
            "Epoch 75/100\n",
            "143/143 [==============================] - 3s 22ms/step - loss: 0.6309 - auc_1: 0.6935 - val_loss: 0.6384 - val_auc_1: 0.6912\n",
            "Epoch 76/100\n",
            "143/143 [==============================] - 3s 22ms/step - loss: 0.6306 - auc_1: 0.6939 - val_loss: 0.6412 - val_auc_1: 0.6914\n",
            "Epoch 77/100\n",
            "143/143 [==============================] - 3s 22ms/step - loss: 0.6303 - auc_1: 0.6942 - val_loss: 0.6429 - val_auc_1: 0.6918\n",
            "Epoch 78/100\n",
            "143/143 [==============================] - 3s 20ms/step - loss: 0.6300 - auc_1: 0.6946 - val_loss: 0.6359 - val_auc_1: 0.6921\n",
            "Epoch 79/100\n",
            "143/143 [==============================] - 4s 26ms/step - loss: 0.6296 - auc_1: 0.6951 - val_loss: 0.6327 - val_auc_1: 0.6923\n",
            "Epoch 80/100\n",
            "143/143 [==============================] - 3s 22ms/step - loss: 0.6293 - auc_1: 0.6954 - val_loss: 0.6341 - val_auc_1: 0.6925\n",
            "Epoch 81/100\n",
            "143/143 [==============================] - 3s 22ms/step - loss: 0.6290 - auc_1: 0.6958 - val_loss: 0.6384 - val_auc_1: 0.6929\n",
            "Epoch 82/100\n",
            "143/143 [==============================] - 3s 23ms/step - loss: 0.6288 - auc_1: 0.6961 - val_loss: 0.6357 - val_auc_1: 0.6932\n",
            "Epoch 83/100\n",
            "143/143 [==============================] - 3s 19ms/step - loss: 0.6285 - auc_1: 0.6964 - val_loss: 0.6354 - val_auc_1: 0.6934\n",
            "Epoch 84/100\n",
            "143/143 [==============================] - 3s 19ms/step - loss: 0.6282 - auc_1: 0.6967 - val_loss: 0.6353 - val_auc_1: 0.6936\n",
            "Epoch 85/100\n",
            "143/143 [==============================] - 3s 22ms/step - loss: 0.6279 - auc_1: 0.6971 - val_loss: 0.6382 - val_auc_1: 0.6938\n",
            "Epoch 86/100\n",
            "143/143 [==============================] - 3s 22ms/step - loss: 0.6277 - auc_1: 0.6974 - val_loss: 0.6364 - val_auc_1: 0.6940\n",
            "Epoch 87/100\n",
            "143/143 [==============================] - 3s 22ms/step - loss: 0.6274 - auc_1: 0.6978 - val_loss: 0.6341 - val_auc_1: 0.6943\n",
            "Epoch 88/100\n",
            "143/143 [==============================] - 3s 19ms/step - loss: 0.6272 - auc_1: 0.6981 - val_loss: 0.6348 - val_auc_1: 0.6945\n",
            "Epoch 89/100\n",
            "143/143 [==============================] - 3s 20ms/step - loss: 0.6269 - auc_1: 0.6984 - val_loss: 0.6332 - val_auc_1: 0.6946\n",
            "Epoch 90/100\n",
            "143/143 [==============================] - 3s 19ms/step - loss: 0.6267 - auc_1: 0.6986 - val_loss: 0.6347 - val_auc_1: 0.6949\n",
            "Epoch 91/100\n",
            "143/143 [==============================] - 3s 22ms/step - loss: 0.6264 - auc_1: 0.6989 - val_loss: 0.6352 - val_auc_1: 0.6950\n",
            "Epoch 92/100\n",
            "143/143 [==============================] - 3s 24ms/step - loss: 0.6262 - auc_1: 0.6992 - val_loss: 0.6310 - val_auc_1: 0.6953\n",
            "Epoch 93/100\n",
            "143/143 [==============================] - 3s 22ms/step - loss: 0.6259 - auc_1: 0.6995 - val_loss: 0.6378 - val_auc_1: 0.6955\n",
            "Epoch 94/100\n",
            "143/143 [==============================] - 3s 22ms/step - loss: 0.6257 - auc_1: 0.6998 - val_loss: 0.6393 - val_auc_1: 0.6956\n",
            "Epoch 95/100\n",
            "143/143 [==============================] - 3s 20ms/step - loss: 0.6255 - auc_1: 0.7001 - val_loss: 0.6314 - val_auc_1: 0.6958\n",
            "Epoch 96/100\n",
            "143/143 [==============================] - 3s 20ms/step - loss: 0.6253 - auc_1: 0.7004 - val_loss: 0.6374 - val_auc_1: 0.6959\n",
            "Epoch 97/100\n",
            "143/143 [==============================] - 3s 20ms/step - loss: 0.6250 - auc_1: 0.7007 - val_loss: 0.6428 - val_auc_1: 0.6962\n",
            "Epoch 98/100\n",
            "143/143 [==============================] - 4s 25ms/step - loss: 0.6248 - auc_1: 0.7009 - val_loss: 0.6306 - val_auc_1: 0.6963\n",
            "Epoch 99/100\n",
            "143/143 [==============================] - 3s 21ms/step - loss: 0.6246 - auc_1: 0.7011 - val_loss: 0.6365 - val_auc_1: 0.6965\n",
            "Epoch 100/100\n",
            "143/143 [==============================] - 3s 20ms/step - loss: 0.6244 - auc_1: 0.7013 - val_loss: 0.6316 - val_auc_1: 0.6966\n"
          ]
        }
      ],
      "source": [
        "max_epochs = 100\n",
        "history_3 = model_3.fit(X_resampled,y_resampled,  epochs=max_epochs, validation_data=(X_val, y_val),batch_size=250, callbacks=[callback_es_3,callback_mc_3],verbose=1)"
      ]
    },
    {
      "cell_type": "markdown",
      "metadata": {
        "id": "-3hrwYMr2kJC"
      },
      "source": [
        "# Evaluación de Redes Neuronales con distintos Optimizadores"
      ]
    },
    {
      "cell_type": "markdown",
      "metadata": {
        "id": "uq8pq0ubzB7H"
      },
      "source": [
        "## Evaluación Optimizador: Adam"
      ]
    },
    {
      "cell_type": "code",
      "execution_count": null,
      "metadata": {
        "id": "GbyHzQf-zB7H"
      },
      "outputs": [],
      "source": [
        "acc = history_1.history['auc']\n",
        "test_acc = history_1.history['val_auc']\n",
        "\n",
        "loss = history_1.history['loss']\n",
        "test_loss = history_1.history['val_loss']"
      ]
    },
    {
      "cell_type": "code",
      "execution_count": null,
      "metadata": {
        "colab": {
          "base_uri": "https://localhost:8080/",
          "height": 605
        },
        "id": "DYg3cWDNzB7I",
        "outputId": "81cf1185-d888-4c67-ab06-f8a7365d758f"
      },
      "outputs": [
        {
          "data": {
            "text/plain": [
              "<matplotlib.legend.Legend at 0x7f01d6298750>"
            ]
          },
          "execution_count": 65,
          "metadata": {},
          "output_type": "execute_result"
        },
        {
          "data": {
            "image/png": "[encoded data removed]",
            "text/plain": [
              "<Figure size 1440x720 with 2 Axes>"
            ]
          },
          "metadata": {},
          "output_type": "display_data"
        }
      ],
      "source": [
        "figura, (ax1, ax2) = plt.subplots(nrows=1, ncols=2, figsize=(20,10))\n",
        "\n",
        "n_epochs = len(acc)\n",
        "\n",
        "ax1.plot(range(n_epochs), acc, label='Training AUC')\n",
        "ax1.plot(range(n_epochs), test_acc, label='Test AUC')\n",
        "ax1.set_title('Recall')\n",
        "ax1.legend()\n",
        "\n",
        "ax2.plot(range(n_epochs), loss, label='Training loss')\n",
        "ax2.plot(range(n_epochs), test_loss, label='Test loss')\n",
        "ax2.set_title('Loss')\n",
        "ax2.legend()"
      ]
    },
    {
      "cell_type": "code",
      "execution_count": null,
      "metadata": {
        "colab": {
          "base_uri": "https://localhost:8080/"
        },
        "id": "sL7LAn_IzB7I",
        "outputId": "9f3c2ae6-f68d-4ca3-99b6-2f0f2c423cb4"
      },
      "outputs": [
        {
          "name": "stdout",
          "output_type": "stream",
          "text": [
            "7232/7232 [==============================] - 11s 1ms/step\n"
          ]
        }
      ],
      "source": [
        "y_pred = model_1.predict(X_test)\n",
        "y_pred = np.round(y_pred)"
      ]
    },
    {
      "cell_type": "code",
      "execution_count": null,
      "metadata": {
        "colab": {
          "base_uri": "https://localhost:8080/",
          "height": 426
        },
        "id": "yzVYB2lozB7I",
        "outputId": "9f1ccc24-f18c-4f62-859e-d99986bbd4ba"
      },
      "outputs": [
        {
          "data": {
            "image/png": "[encoded data removed]",
            "text/plain": [
              "<Figure size 432x432 with 1 Axes>"
            ]
          },
          "metadata": {},
          "output_type": "display_data"
        }
      ],
      "source": [
        "fig, ax = plot_confusion_matrix(conf_mat=confusion_matrix(y_test,y_pred), figsize=(6,6),cmap = cmap)\n",
        "plt.title('Matriz de confusión')\n",
        "plt.show()"
      ]
    },
    {
      "cell_type": "code",
      "execution_count": null,
      "metadata": {
        "colab": {
          "base_uri": "https://localhost:8080/"
        },
        "id": "FSl9xsExzB7I",
        "outputId": "47c165d9-d69f-41d5-dada-6ae71d3a301e"
      },
      "outputs": [
        {
          "name": "stdout",
          "output_type": "stream",
          "text": [
            "7232/7232 [==============================] - 20s 3ms/step - loss: 0.6412 - auc: 0.6897\n"
          ]
        },
        {
          "data": {
            "text/plain": [
              "[0.6411904096603394, 0.6896510124206543]"
            ]
          },
          "execution_count": 68,
          "metadata": {},
          "output_type": "execute_result"
        }
      ],
      "source": [
        "model_1.evaluate(X_test, y_test)"
      ]
    },
    {
      "cell_type": "code",
      "execution_count": null,
      "metadata": {
        "id": "7uj_AtIGzB7I"
      },
      "outputs": [],
      "source": [
        "from tensorflow import keras\n",
        "best_model_1 = keras.models.load_model(path_base + '/models/' + 'best_model_1.hdf5')"
      ]
    },
    {
      "cell_type": "code",
      "execution_count": null,
      "metadata": {
        "colab": {
          "base_uri": "https://localhost:8080/"
        },
        "id": "388u_us8zB7I",
        "outputId": "b6889f05-4a6a-42bf-ac29-68e9da9d45a1"
      },
      "outputs": [
        {
          "output_type": "stream",
          "name": "stdout",
          "text": [
            "1113/1113 [==============================] - 2s 2ms/step\n"
          ]
        }
      ],
      "source": [
        "y_pred_train = best_model_1.predict(X_resampled)\n",
        "y_pred_train = np.round(y_pred_train)"
      ]
    },
    {
      "cell_type": "code",
      "source": [
        "y_pred_test = best_model_1.predict(X_test)\n",
        "y_pred_test = np.round(y_pred_test)"
      ],
      "metadata": {
        "colab": {
          "base_uri": "https://localhost:8080/"
        },
        "id": "o5UKu8IgrzOF",
        "outputId": "2f8f324d-dfb9-4bfa-8daf-b7190918ca7a"
      },
      "execution_count": null,
      "outputs": [
        {
          "output_type": "stream",
          "name": "stdout",
          "text": [
            "7232/7232 [==============================] - 11s 2ms/step\n"
          ]
        }
      ]
    },
    {
      "cell_type": "code",
      "source": [
        "print('recall (train):',recall_score(y_resampled,y_pred_train))\n",
        "\n",
        "print('recall (test):',recall_score(y_test,y_pred_test))"
      ],
      "metadata": {
        "colab": {
          "base_uri": "https://localhost:8080/"
        },
        "outputId": "6a1a8eeb-8a81-4913-c510-614dec7692a5",
        "id": "wKu3skY6r8mS"
      },
      "execution_count": null,
      "outputs": [
        {
          "output_type": "stream",
          "name": "stdout",
          "text": [
            "recall (train): 0.7094309947761613\n",
            "recall (test): 0.7053571428571429\n"
          ]
        }
      ]
    },
    {
      "cell_type": "code",
      "source": [
        "print('f1 score (train):',f1_score(y_resampled,y_pred_train))\n",
        "\n",
        "print('f1 score (test):',f1_score(y_test,y_pred_test))"
      ],
      "metadata": {
        "colab": {
          "base_uri": "https://localhost:8080/"
        },
        "outputId": "4c570bc4-aacb-4171-86ef-ec42fe1c1082",
        "id": "I-xSKD4Cr8mS"
      },
      "execution_count": null,
      "outputs": [
        {
          "output_type": "stream",
          "name": "stdout",
          "text": [
            "f1 score (train): 0.678102601272449\n",
            "f1 score (test): 0.05381848783273391\n"
          ]
        }
      ]
    },
    {
      "cell_type": "code",
      "source": [
        "print('accuracy (train):',accuracy_score(y_resampled,y_pred_train))\n",
        "\n",
        "print('accuracy (test):',accuracy_score(y_test,y_pred_test))"
      ],
      "metadata": {
        "colab": {
          "base_uri": "https://localhost:8080/"
        },
        "outputId": "a68c346d-9161-43f1-961b-ec3c19cc0421",
        "id": "qAjAlXNPr8mT"
      },
      "execution_count": null,
      "outputs": [
        {
          "output_type": "stream",
          "name": "stdout",
          "text": [
            "accuracy (train): 0.6632309161377296\n",
            "accuracy (test): 0.5918451133343418\n"
          ]
        }
      ]
    },
    {
      "cell_type": "code",
      "execution_count": null,
      "metadata": {
        "colab": {
          "base_uri": "https://localhost:8080/",
          "height": 426
        },
        "id": "rVQ3KHL6zB7I",
        "outputId": "5109f45d-d401-4639-f2cb-88920255c930"
      },
      "outputs": [
        {
          "data": {
            "image/png": "[encoded data removed]",
            "text/plain": [
              "<Figure size 432x432 with 1 Axes>"
            ]
          },
          "metadata": {},
          "output_type": "display_data"
        }
      ],
      "source": [
        "fig, ax = plot_confusion_matrix(conf_mat=confusion_matrix(y_test,y_pred), figsize=(6,6),cmap = cmap)\n",
        "plt.title('Matriz de confusión')\n",
        "plt.show()"
      ]
    },
    {
      "cell_type": "code",
      "execution_count": null,
      "metadata": {
        "colab": {
          "base_uri": "https://localhost:8080/"
        },
        "id": "g1hhkUFIzB7J",
        "outputId": "0669277f-1407-48b6-d873-11c1c4dd9bd0"
      },
      "outputs": [
        {
          "name": "stdout",
          "output_type": "stream",
          "text": [
            "7232/7232 [==============================] - 20s 3ms/step - loss: 0.6356 - auc: 0.6774\n"
          ]
        },
        {
          "data": {
            "text/plain": [
              "[0.6356483697891235, 0.6774324178695679]"
            ]
          },
          "execution_count": 72,
          "metadata": {},
          "output_type": "execute_result"
        }
      ],
      "source": [
        "best_model_1.evaluate(X_test, y_test)"
      ]
    },
    {
      "cell_type": "markdown",
      "metadata": {
        "id": "4ZL-a4ysz-lp"
      },
      "source": [
        "## Evaluación Optimizador: RMSprop"
      ]
    },
    {
      "cell_type": "code",
      "execution_count": null,
      "metadata": {
        "id": "PXekNjMIz-lq"
      },
      "outputs": [],
      "source": [
        "acc = history_2.history['auc']\n",
        "test_acc = history_2.history['val_auc']\n",
        "\n",
        "loss = history_2.history['loss']\n",
        "test_loss = history_2.history['val_loss']"
      ]
    },
    {
      "cell_type": "code",
      "execution_count": null,
      "metadata": {
        "colab": {
          "base_uri": "https://localhost:8080/",
          "height": 605
        },
        "id": "amUJ8_Nwz-lq",
        "outputId": "246a62f6-a18f-43e3-b3af-93aafca70af7"
      },
      "outputs": [
        {
          "data": {
            "text/plain": [
              "<matplotlib.legend.Legend at 0x7f02002cc4d0>"
            ]
          },
          "execution_count": 74,
          "metadata": {},
          "output_type": "execute_result"
        },
        {
          "data": {
            "image/png": "[encoded data removed]",
            "text/plain": [
              "<Figure size 1440x720 with 2 Axes>"
            ]
          },
          "metadata": {},
          "output_type": "display_data"
        }
      ],
      "source": [
        "figura, (ax1, ax2) = plt.subplots(nrows=1, ncols=2, figsize=(20,10))\n",
        "\n",
        "n_epochs = len(acc)\n",
        "\n",
        "ax1.plot(range(n_epochs), acc, label='Training AUC')\n",
        "ax1.plot(range(n_epochs), test_acc, label='Test AUC')\n",
        "ax1.set_title('Recall')\n",
        "ax1.legend()\n",
        "\n",
        "ax2.plot(range(n_epochs), loss, label='Training loss')\n",
        "ax2.plot(range(n_epochs), test_loss, label='Test loss')\n",
        "ax2.set_title('Loss')\n",
        "ax2.legend()"
      ]
    },
    {
      "cell_type": "code",
      "execution_count": null,
      "metadata": {
        "colab": {
          "base_uri": "https://localhost:8080/"
        },
        "id": "-AaEIk7Oz-lq",
        "outputId": "0eea8073-32eb-4888-d584-6e2affd90c18"
      },
      "outputs": [
        {
          "name": "stdout",
          "output_type": "stream",
          "text": [
            "7232/7232 [==============================] - 11s 1ms/step\n"
          ]
        }
      ],
      "source": [
        "y_pred = model_2.predict(X_test)\n",
        "y_pred = np.round(y_pred)"
      ]
    },
    {
      "cell_type": "code",
      "source": [],
      "metadata": {
        "id": "E3_k0jhEn_y8"
      },
      "execution_count": null,
      "outputs": []
    },
    {
      "cell_type": "code",
      "execution_count": null,
      "metadata": {
        "colab": {
          "base_uri": "https://localhost:8080/",
          "height": 426
        },
        "id": "k8ivciRsz-lq",
        "outputId": "15643602-0226-45c7-9291-ead3185b0224"
      },
      "outputs": [
        {
          "data": {
            "image/png": "[encoded data removed]",
            "text/plain": [
              "<Figure size 432x432 with 1 Axes>"
            ]
          },
          "metadata": {},
          "output_type": "display_data"
        }
      ],
      "source": [
        "fig, ax = plot_confusion_matrix(conf_mat=confusion_matrix(y_test,y_pred), figsize=(6,6),cmap = cmap)\n",
        "plt.title('Matriz de confusión')\n",
        "plt.show()"
      ]
    },
    {
      "cell_type": "code",
      "execution_count": null,
      "metadata": {
        "colab": {
          "base_uri": "https://localhost:8080/"
        },
        "id": "hQ-yl1VEz-lr",
        "outputId": "4eeb1c66-295f-4710-e627-3c1aaaba838f"
      },
      "outputs": [
        {
          "name": "stdout",
          "output_type": "stream",
          "text": [
            "7232/7232 [==============================] - 20s 3ms/step - loss: 0.6332 - auc: 0.6953\n"
          ]
        },
        {
          "data": {
            "text/plain": [
              "[0.633213996887207, 0.6952909231185913]"
            ]
          },
          "execution_count": 77,
          "metadata": {},
          "output_type": "execute_result"
        }
      ],
      "source": [
        "model_2.evaluate(X_test, y_test)"
      ]
    },
    {
      "cell_type": "code",
      "execution_count": null,
      "metadata": {
        "id": "JLGl0t6kz-lr"
      },
      "outputs": [],
      "source": [
        "from tensorflow import keras\n",
        "best_model_2 = keras.models.load_model(path_base + '/models/' + 'best_model_2.hdf5')"
      ]
    },
    {
      "cell_type": "code",
      "execution_count": null,
      "metadata": {
        "colab": {
          "base_uri": "https://localhost:8080/"
        },
        "id": "THS-VQ0_z-lr",
        "outputId": "665615c0-d9a0-49cc-9ee7-1ece82404c1a"
      },
      "outputs": [
        {
          "name": "stdout",
          "output_type": "stream",
          "text": [
            "7232/7232 [==============================] - 11s 2ms/step\n"
          ]
        }
      ],
      "source": [
        "y_pred = best_model_2.predict(X_test)\n",
        "y_pred = np.round(y_pred)"
      ]
    },
    {
      "cell_type": "code",
      "execution_count": null,
      "metadata": {
        "colab": {
          "base_uri": "https://localhost:8080/",
          "height": 426
        },
        "id": "93XVlw5Xz-lr",
        "outputId": "f1c283b7-9705-48e7-8f0a-81d17b270372"
      },
      "outputs": [
        {
          "data": {
            "image/png": "[encoded data removed]",
            "text/plain": [
              "<Figure size 432x432 with 1 Axes>"
            ]
          },
          "metadata": {},
          "output_type": "display_data"
        }
      ],
      "source": [
        "fig, ax = plot_confusion_matrix(conf_mat=confusion_matrix(y_test,y_pred), figsize=(6,6),cmap = cmap)\n",
        "plt.title('Matriz de confusión')\n",
        "plt.show()"
      ]
    },
    {
      "cell_type": "code",
      "execution_count": null,
      "metadata": {
        "colab": {
          "base_uri": "https://localhost:8080/"
        },
        "id": "urGi1KOuz-lr",
        "outputId": "d04c2dc8-2fa3-4ad2-ee12-a9b000a618c1"
      },
      "outputs": [
        {
          "name": "stdout",
          "output_type": "stream",
          "text": [
            "7232/7232 [==============================] - 20s 3ms/step - loss: 0.6318 - auc: 0.6936\n"
          ]
        },
        {
          "data": {
            "text/plain": [
              "[0.6318410634994507, 0.6935734748840332]"
            ]
          },
          "execution_count": 81,
          "metadata": {},
          "output_type": "execute_result"
        }
      ],
      "source": [
        "best_model_2.evaluate(X_test, y_test)"
      ]
    },
    {
      "cell_type": "markdown",
      "metadata": {
        "id": "_XDBLA-90LzY"
      },
      "source": [
        "## Evaluación Optimizador: Adagrad"
      ]
    },
    {
      "cell_type": "code",
      "execution_count": null,
      "metadata": {
        "id": "UkVu10xd0LzZ"
      },
      "outputs": [],
      "source": [
        "acc = history_3.history['auc_1']\n",
        "test_acc = history_3.history['val_auc_1']\n",
        "\n",
        "loss = history_3.history['loss']\n",
        "test_loss = history_3.history['val_loss']"
      ]
    },
    {
      "cell_type": "code",
      "execution_count": null,
      "metadata": {
        "colab": {
          "base_uri": "https://localhost:8080/",
          "height": 628
        },
        "id": "fGV8dg_r0LzZ",
        "outputId": "ba15e3e8-fe19-42fd-9bce-99fbd9639965"
      },
      "outputs": [
        {
          "data": {
            "text/plain": [
              "<matplotlib.legend.Legend at 0x7f01c4138f90>"
            ]
          },
          "execution_count": 87,
          "metadata": {},
          "output_type": "execute_result"
        },
        {
          "data": {
            "image/png": "[encoded data removed]",
            "text/plain": [
              "<Figure size 1440x720 with 2 Axes>"
            ]
          },
          "metadata": {},
          "output_type": "display_data"
        }
      ],
      "source": [
        "figura, (ax1, ax2) = plt.subplots(nrows=1, ncols=2, figsize=(20,10))\n",
        "\n",
        "n_epochs = len(acc)\n",
        "\n",
        "ax1.plot(range(n_epochs), acc, label='Training AUC')\n",
        "ax1.plot(range(n_epochs), test_acc, label='Test AUC')\n",
        "ax1.set_title('Recall')\n",
        "ax1.legend()\n",
        "\n",
        "ax2.plot(range(n_epochs), loss, label='Training loss')\n",
        "ax2.plot(range(n_epochs), test_loss, label='Test loss')\n",
        "ax2.set_title('Loss')\n",
        "ax2.legend()"
      ]
    },
    {
      "cell_type": "code",
      "execution_count": null,
      "metadata": {
        "colab": {
          "base_uri": "https://localhost:8080/"
        },
        "id": "MPMiXPkH0Lza",
        "outputId": "ab8c6e70-b275-4148-ee9f-f7465f6eb2c7"
      },
      "outputs": [
        {
          "name": "stdout",
          "output_type": "stream",
          "text": [
            "7232/7232 [==============================] - 11s 1ms/step\n"
          ]
        }
      ],
      "source": [
        "y_pred = model_3.predict(X_test)\n",
        "y_pred = np.round(y_pred)"
      ]
    },
    {
      "cell_type": "code",
      "execution_count": null,
      "metadata": {
        "colab": {
          "base_uri": "https://localhost:8080/",
          "height": 426
        },
        "id": "n-ohv_up0Lza",
        "outputId": "03e8ae71-9d10-4c0e-bf7a-35a036fa6202"
      },
      "outputs": [
        {
          "data": {
            "image/png": "[encoded data removed]",
            "text/plain": [
              "<Figure size 432x432 with 1 Axes>"
            ]
          },
          "metadata": {},
          "output_type": "display_data"
        }
      ],
      "source": [
        "fig, ax = plot_confusion_matrix(conf_mat=confusion_matrix(y_test,y_pred), figsize=(6,6),cmap = cmap)\n",
        "plt.title('Matriz de confusión')\n",
        "plt.show()"
      ]
    },
    {
      "cell_type": "code",
      "execution_count": null,
      "metadata": {
        "colab": {
          "base_uri": "https://localhost:8080/"
        },
        "id": "nrcUjbnk0Lza",
        "outputId": "dbf0118a-1270-425d-ed2c-12096e4c544c"
      },
      "outputs": [
        {
          "name": "stdout",
          "output_type": "stream",
          "text": [
            "7232/7232 [==============================] - 21s 3ms/step - loss: 0.6443 - auc_1: 0.6869\n"
          ]
        },
        {
          "data": {
            "text/plain": [
              "[0.6443319320678711, 0.6868895888328552]"
            ]
          },
          "execution_count": 90,
          "metadata": {},
          "output_type": "execute_result"
        }
      ],
      "source": [
        "model_3.evaluate(X_test, y_test)"
      ]
    },
    {
      "cell_type": "code",
      "execution_count": null,
      "metadata": {
        "id": "flaFzrfI0Lza"
      },
      "outputs": [],
      "source": [
        "from tensorflow import keras\n",
        "best_model_3 = keras.models.load_model(path_base + '/models/' + 'best_model_3.hdf5')"
      ]
    },
    {
      "cell_type": "code",
      "execution_count": null,
      "metadata": {
        "colab": {
          "base_uri": "https://localhost:8080/"
        },
        "id": "TcjaT8Qq0Lza",
        "outputId": "48e83078-f436-4185-f5ad-c00f1aa778a8"
      },
      "outputs": [
        {
          "name": "stdout",
          "output_type": "stream",
          "text": [
            "7232/7232 [==============================] - 11s 1ms/step\n"
          ]
        }
      ],
      "source": [
        "y_pred = best_model_3.predict(X_test)\n",
        "y_pred = np.round(y_pred)"
      ]
    },
    {
      "cell_type": "code",
      "execution_count": null,
      "metadata": {
        "colab": {
          "base_uri": "https://localhost:8080/",
          "height": 426
        },
        "id": "lp8ZxEBj0Lza",
        "outputId": "07f50c74-abf0-4fb2-de8d-674191840a4f"
      },
      "outputs": [
        {
          "data": {
            "image/png": "[encoded data removed]",
            "text/plain": [
              "<Figure size 432x432 with 1 Axes>"
            ]
          },
          "metadata": {},
          "output_type": "display_data"
        }
      ],
      "source": [
        "fig, ax = plot_confusion_matrix(conf_mat=confusion_matrix(y_test,y_pred), figsize=(6,6),cmap = cmap)\n",
        "plt.title('Matriz de confusión')\n",
        "plt.show()"
      ]
    },
    {
      "cell_type": "code",
      "execution_count": null,
      "metadata": {
        "colab": {
          "base_uri": "https://localhost:8080/"
        },
        "id": "4yMyHRy40Lzb",
        "outputId": "9e76b191-110e-4d6f-c78e-053fdd6be853"
      },
      "outputs": [
        {
          "name": "stdout",
          "output_type": "stream",
          "text": [
            "7232/7232 [==============================] - 21s 3ms/step - loss: 0.6432 - auc_1: 0.6866\n"
          ]
        },
        {
          "data": {
            "text/plain": [
              "[0.6431981325149536, 0.686583936214447]"
            ]
          },
          "execution_count": 94,
          "metadata": {},
          "output_type": "execute_result"
        }
      ],
      "source": [
        "best_model_3.evaluate(X_test, y_test)"
      ]
    },
    {
      "cell_type": "markdown",
      "metadata": {
        "id": "gpTJXQEUCihk"
      },
      "source": [
        "# Resumen de Desempeño de las Redes Neuronales"
      ]
    },
    {
      "cell_type": "code",
      "execution_count": null,
      "metadata": {
        "colab": {
          "base_uri": "https://localhost:8080/"
        },
        "id": "g3MNegm9DuZI",
        "outputId": "715aaa3a-0a7c-40ae-ef40-01ce0bd472ba"
      },
      "outputs": [
        {
          "name": "stdout",
          "output_type": "stream",
          "text": [
            "19/19 [==============================] - 0s 3ms/step - loss: 0.2197 - recall: 0.7984\n"
          ]
        },
        {
          "data": {
            "text/plain": [
              "[0.21974854171276093, 0.7983871102333069]"
            ]
          },
          "execution_count": 106,
          "metadata": {},
          "output_type": "execute_result"
        }
      ],
      "source": [
        "best_model.evaluate(X_test, y_test)"
      ]
    },
    {
      "cell_type": "code",
      "execution_count": null,
      "metadata": {
        "colab": {
          "base_uri": "https://localhost:8080/"
        },
        "id": "djFKgGYiCpRu",
        "outputId": "1c3f7bfc-a1f0-4526-e926-ccacc2948d46"
      },
      "outputs": [
        {
          "name": "stdout",
          "output_type": "stream",
          "text": [
            "19/19 [==============================] - 0s 3ms/step - loss: 0.2209 - recall_1: 0.8226\n"
          ]
        },
        {
          "data": {
            "text/plain": [
              "[0.2209259271621704, 0.8225806355476379]"
            ]
          },
          "execution_count": 107,
          "metadata": {},
          "output_type": "execute_result"
        }
      ],
      "source": [
        "best_model_1.evaluate(X_test, y_test)"
      ]
    },
    {
      "cell_type": "code",
      "execution_count": null,
      "metadata": {
        "colab": {
          "base_uri": "https://localhost:8080/"
        },
        "id": "bOvm3prbCpNR",
        "outputId": "ea38001b-9b9f-4f99-d925-0f6be8c65617"
      },
      "outputs": [
        {
          "name": "stdout",
          "output_type": "stream",
          "text": [
            "19/19 [==============================] - 0s 3ms/step - loss: 0.2128 - recall_1: 0.7903\n"
          ]
        },
        {
          "data": {
            "text/plain": [
              "[0.21276859939098358, 0.7903226017951965]"
            ]
          },
          "execution_count": 108,
          "metadata": {},
          "output_type": "execute_result"
        }
      ],
      "source": [
        "best_model_2.evaluate(X_test, y_test)"
      ]
    },
    {
      "cell_type": "code",
      "execution_count": null,
      "metadata": {
        "colab": {
          "base_uri": "https://localhost:8080/"
        },
        "id": "FuVvjQrPCpFj",
        "outputId": "cf306743-0ee0-43d7-a0be-6d0d0a97476a"
      },
      "outputs": [
        {
          "name": "stdout",
          "output_type": "stream",
          "text": [
            "19/19 [==============================] - 0s 3ms/step - loss: 0.2272 - recall_1: 0.7903\n"
          ]
        },
        {
          "data": {
            "text/plain": [
              "[0.2272183746099472, 0.7903226017951965]"
            ]
          },
          "execution_count": 109,
          "metadata": {},
          "output_type": "execute_result"
        }
      ],
      "source": [
        "best_model_3.evaluate(X_test, y_test)"
      ]
    }
  ],
  "metadata": {
    "accelerator": "GPU",
    "colab": {
      "collapsed_sections": [
        "cMbYk-iu_evQ",
        "hmtaJOF6_fm8",
        "U0qwCbrVTNJR",
        "yWH8a-C81MJ8",
        "YJKfi2wF1Qkf",
        "YkiESsID1TCD",
        "sn-swyCo1zN8",
        "7WHtdMiL119M",
        "w2KIoFTx_f2P",
        "Y_RJbnDH_fur",
        "Ek3BwZY1zB7G",
        "7vJJ6LH10uGv",
        "dqdk1ot901Fl",
        "a09p9l6M04xl",
        "uq8pq0ubzB7H",
        "4ZL-a4ysz-lp",
        "_XDBLA-90LzY",
        "gpTJXQEUCihk"
      ],
      "provenance": [],
      "include_colab_link": true
    },
    "gpuClass": "standard",
    "kernelspec": {
      "display_name": "Python 3.10.2 64-bit",
      "language": "python",
      "name": "python3"
    },
    "language_info": {
      "codemirror_mode": {
        "name": "ipython",
        "version": 3
      },
      "file_extension": ".py",
      "mimetype": "text/x-python",
      "name": "python",
      "nbconvert_exporter": "python",
      "pygments_lexer": "ipython3",
      "version": "3.10.2"
    },
    "vscode": {
      "interpreter": {
        "hash": "aee8b7b246df8f9039afb4144a1f6fd8d2ca17a180786b69acc140d282b71a49"
      }
    }
  },
  "nbformat": 4,
  "nbformat_minor": 0
}